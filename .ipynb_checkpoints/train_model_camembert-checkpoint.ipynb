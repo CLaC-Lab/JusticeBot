{
 "cells": [
  {
   "cell_type": "code",
   "execution_count": 17,
   "metadata": {},
   "outputs": [],
   "source": [
    "import torch\n",
    "from torch.utils.data import Dataset, DataLoader\n",
    "\n",
    "device = torch.device(\"cuda\" if torch.cuda.is_available() else \"cpu\")"
   ]
  },
  {
   "cell_type": "code",
   "execution_count": 2,
   "metadata": {},
   "outputs": [],
   "source": [
    "class FactsOrAnalysisDS_BERT(Dataset):\n",
    "    \"\"\"PyTorch Dataset class. Returns input-target tensor pairs\"\"\"\n",
    "    def __init__(self,csv_file):\n",
    "        camembert = torch.hub.load('pytorch/fairseq', 'camembert.v0')\n",
    "        with open(csv_file) as f:\n",
    "            dataset=[line.split(\",\") for line in f]\n",
    "        self.dataset=[[camembert.encode(datum[0]),int(datum[1][0])] for datum in dataset]\n",
    "    \n",
    "    def __len__(self):\n",
    "        return (len(self.dataset))\n",
    "    \n",
    "    def __getitem__(self,index):\n",
    "        return self.dataset[index]"
   ]
  },
  {
   "cell_type": "code",
   "execution_count": 38,
   "metadata": {},
   "outputs": [],
   "source": [
    "import torch\n",
    "from pytorch_pretrained_bert import BertModel\n",
    "from torch import nn\n",
    "\n",
    "## FIRST EXPERIMENT: camemBERT as embeddings model that feeds into a GRU network\n",
    "\n",
    "## Originally a combination of the output of a GRU network and a CNN, I am now replacing\n",
    "## the architecture to include a BERT model whose output is fed into a recurrent layer\n",
    "\n",
    "class FactsOrAnalysis_camemBERT(nn.Module):\n",
    "    def __init__(self,hidden_size=128):\n",
    "        super(FactsOrAnalysis_camemBERT, self).__init__()\n",
    "        camembert = torch.hub.load('pytorch/fairseq', 'camembert.v0')\n",
    "        self.camembert=camembert\n",
    "        self.gru=torch.nn.GRU(\n",
    "            input_size=768,\n",
    "            hidden_size=hidden_size,\n",
    "            num_layers=3,\n",
    "            batch_first=True,\n",
    "            bidirectional=True)\n",
    "        self.linear = nn.Linear(hidden_size,1)\n",
    "        self.softmax = nn.Softmax(dim=1)\n",
    "\n",
    "    def forward(self,input_tensor, lengths=None):\n",
    "        output=self.camembert.extract_features(input_tensor)\n",
    "        if lengths is not None:\n",
    "            output=torch.nn.utils.rnn.pack_padded_sequence(output, \n",
    "                                                               lengths, \n",
    "                                                               batch_first=True, \n",
    "                                                               enforce_sorted=True)\n",
    "        _,output=self.gru(output) # output here catches the hidden state\n",
    "#         if lengths is not None:\n",
    "#             output = padd_packed_seq(out)\n",
    "        output=output[0]\n",
    "        output=self.linear(output)\n",
    "#         output=self.softmax(output)\n",
    "#         print(output)\n",
    "        return self.softmax(output)"
   ]
  },
  {
   "cell_type": "code",
   "execution_count": 39,
   "metadata": {},
   "outputs": [],
   "source": [
    "class PadSequence:\n",
    "    def __call__(self,batch):\n",
    "        sorted_batch = sorted(batch, key=lambda x: x[0].shape[0], reverse=True)\n",
    "        sequences = [x[0] for x in sorted_batch]\n",
    "        sequences_padded = torch.nn.utils.rnn.pad_sequence(sequences, batch_first=True)\n",
    "        lengths = torch.Tensor([len(x) for x in sequences])\n",
    "        labels = torch.Tensor([x[1] for x in sorted_batch])\n",
    "        return sequences_padded, labels, lengths"
   ]
  },
  {
   "cell_type": "code",
   "execution_count": 40,
   "metadata": {},
   "outputs": [],
   "source": [
    "import torch,IPython,numpy as np\n",
    "import matplotlib.pyplot as plt\n",
    "from tqdm import tqdm_notebook as tqdm\n",
    "from sklearn.metrics import accuracy_score,f1_score,precision_score,recall_score\n",
    "\n",
    "def train(input_tensor,target,model,optimiser,criterion,clip,lengths):\n",
    "    model.train()\n",
    "    optimiser.zero_grad()\n",
    "    prediction = model(input_tensor,lengths=lengths).to(device)\n",
    "    loss = criterion(prediction,target)\n",
    "    loss.backward()\n",
    "    torch.nn.utils.clip_grad_norm_(model.parameters(),clip)\n",
    "    optimiser.step()\n",
    "    return loss.item(), prediction\n",
    "\n",
    "def valid(input_tensor,target,model,criterion):\n",
    "    model.eval()\n",
    "    prediction = model(input_tensor,lengths=lengths)\n",
    "    loss = criterion(prediction,target)\n",
    "    return loss.item(), prediction\n",
    "\n",
    "def test(target_tensor,prediction_tensor):\n",
    "    t = target_tensor.cpu().detach().numpy()\n",
    "    t = np.array([target for target in t])\n",
    "    \n",
    "    p = prediction_tensor.cpu().detach().numpy()\n",
    "    p = np.array([predic for predic in p])\n",
    "    p = p.round()\n",
    "            \n",
    "    return accuracy_score(t,p), f1_score(t,p), precision_score(t,p), recall_score(t,p)\n",
    "\n",
    "def trainIters(model,\n",
    "               train_dset,\n",
    "               valid_dset,\n",
    "               batch_size,\n",
    "               n_epochs,\n",
    "               learning_rate,\n",
    "               weight_decay,\n",
    "               clip,\n",
    "               collate_fn=None):\n",
    "    \n",
    "    print(\"CUDA is available!\" if torch.cuda.is_available() else \"NO CUDA 4 U\")\n",
    "    \n",
    "    optimiser = torch.optim.Adam(model.parameters(), lr=learning_rate,weight_decay=weight_decay)\n",
    "    criterion = torch.nn.BCELoss()\n",
    "    \n",
    "    train_dl=torch.utils.data.DataLoader(train_dset, batch_size=batch_size,collate_fn=collate_fn)\n",
    "    valid_dl=torch.utils.data.DataLoader(valid_dset, batch_size=batch_size,collate_fn=collate_fn)\n",
    "    \n",
    "    train_losses=[np.inf]\n",
    "    valid_losses=[np.inf]\n",
    "    train_f1=0\n",
    "    valid_f1=0\n",
    "    tqdm_range=tqdm(range(1,n_epochs+1),desc='Epoch',leave=False)\n",
    "    for epoch in tqdm_range:\n",
    "        \n",
    "        #################################\n",
    "        ### STUFF RELATED TO PLOTTING ###\n",
    "        #################################\n",
    "        plt.gca().cla()\n",
    "        plt.xlim(0,n_epochs)\n",
    "        plt.ylim(0,2)\n",
    "        plt.title(\"Learning curve\")\n",
    "        plt.xlabel(\"Number of epochs\")\n",
    "        plt.ylabel(\"Loss\")\n",
    "        plt.text(n_epochs/2,1.9,\"Train loss: {:.2f}\".format(train_losses[-1]))\n",
    "        plt.text(n_epochs/2,1.8,\"Validation loss: {:.2f}\".format(valid_losses[-1]))\n",
    "        plt.text(n_epochs/2,1.7,\"Training F1: {:.2f}\".format(train_f1))\n",
    "        plt.text(n_epochs/2,1.6,\"Validation F1: {:.2f}\".format(valid_f1))\n",
    "        plt.plot(train_losses, \"-b\", label=\"Training loss\")\n",
    "        plt.plot(valid_losses, \"-r\", label=\"Validation loss\")\n",
    "        plt.legend(loc=\"upper left\")\n",
    "        IPython.display.display(plt.gcf())\n",
    "        ########################################\n",
    "        ### END OF STUFF RELATED TO PLOTTING ###\n",
    "        ########################################\n",
    "        avg_train=[]\n",
    "        train_f1=[]\n",
    "        train_dl=tqdm(train_dl,desc='Training',leave=False)\n",
    "        \n",
    "#         for i in train_dl:\n",
    "#             print(i[0],i[1],i[2])\n",
    "    \n",
    "        for x,y,lengths in train_dl:\n",
    "            input_tensor = x.to(device)\n",
    "            target = y.to(device)\n",
    "            train_loss, prediction = train(input_tensor,\n",
    "                                           target,\n",
    "                                           model,\n",
    "                                           optimiser,\n",
    "                                           criterion,\n",
    "                                           clip,\n",
    "                                           lengths)\n",
    "            accuracy,f1,precision,recall=test(target,prediction)\n",
    "            avg_train.append(train_loss)\n",
    "            train_f1.append(f1)\n",
    "            train_dl.set_description('Training accuracy: {:.4f}'.format(accuracy))\n",
    "        avg_train=sum(avg_train)/len(avg_train)\n",
    "        train_f1=sum(train_f1)/len(train_f1)\n",
    "        \n",
    "        train_losses.append(avg_train)\n",
    "        \n",
    "        with torch.no_grad():\n",
    "            avg_valid=[]\n",
    "            valid_f1=[]\n",
    "            valid_dl=tqdm(valid_dl,desc='Validating',leave=False)\n",
    "            for x, y,lengths in valid_dl:\n",
    "                input_tensor = x.to(device)\n",
    "                target = y.to(device)\n",
    "                v_loss, valid_pred = valid(input_tensor,\n",
    "                                           target,\n",
    "                                           model,\n",
    "                                           criterion,\n",
    "                                           lengths)\n",
    "                accuracy,f1,precision,recall=test(target,valid_pred)\n",
    "                avg_valid.append(v_loss)\n",
    "                valid_f1.append(f1)\n",
    "                valid_dl.set_description('Validation accuracy: {:.4f}'.format(accuracy))\n",
    "            avg_valid=sum(avg_valid)/len(avg_valid)\n",
    "            valid_f1=sum(valid_f1)/len(valid_f1)\n",
    "            valid_losses.append(v_loss)\n",
    "            \n",
    "        IPython.display.clear_output(wait=True)\n",
    "        tqdm_range.refresh()\n",
    "    \n",
    "    return train_losses,valid_losses"
   ]
  },
  {
   "cell_type": "code",
   "execution_count": 6,
   "metadata": {},
   "outputs": [
    {
     "name": "stderr",
     "output_type": "stream",
     "text": [
      "Using cache found in /home/andres/.cache/torch/hub/pytorch_fairseq_master\n",
      "Using cache found in /home/andres/.cache/torch/hub/pytorch_fairseq_master\n"
     ]
    }
   ],
   "source": [
    "train_ds=\"data/train_data.csv\"\n",
    "valid_ds=\"data/valid_data.csv\"\n",
    "\n",
    "train_ds=FactsOrAnalysisDS_BERT(train_ds)\n",
    "valid_ds=FactsOrAnalysisDS_BERT(valid_ds)"
   ]
  },
  {
   "cell_type": "code",
   "execution_count": 41,
   "metadata": {},
   "outputs": [
    {
     "name": "stderr",
     "output_type": "stream",
     "text": [
      "Using cache found in /home/andres/.cache/torch/hub/pytorch_fairseq_master\n"
     ]
    }
   ],
   "source": [
    "model=FactsOrAnalysis_camemBERT()"
   ]
  },
  {
   "cell_type": "code",
   "execution_count": 42,
   "metadata": {
    "scrolled": true
   },
   "outputs": [
    {
     "name": "stdout",
     "output_type": "stream",
     "text": [
      "CUDA is available!\n"
     ]
    },
    {
     "data": {
      "application/vnd.jupyter.widget-view+json": {
       "model_id": "f99fdbeaa39a4001b1de6dd140bbf9d1",
       "version_major": 2,
       "version_minor": 0
      },
      "text/plain": [
       "HBox(children=(IntProgress(value=0, description='Epoch', max=20, style=ProgressStyle(description_width='initia…"
      ]
     },
     "metadata": {},
     "output_type": "display_data"
    },
    {
     "data": {
      "image/png": "[encoded data removed]",
      "text/plain": [
       "<Figure size 432x288 with 1 Axes>"
      ]
     },
     "metadata": {},
     "output_type": "display_data"
    },
    {
     "data": {
      "application/vnd.jupyter.widget-view+json": {
       "model_id": "860efcea232f4a8e80aa05e89bca9d20",
       "version_major": 2,
       "version_minor": 0
      },
      "text/plain": [
       "HBox(children=(IntProgress(value=0, description='Training', max=4094, style=ProgressStyle(description_width='i…"
      ]
     },
     "metadata": {},
     "output_type": "display_data"
    },
    {
     "ename": "KeyboardInterrupt",
     "evalue": "",
     "output_type": "error",
     "traceback": [
      "\u001b[0;31m---------------------------------------------------------------------------\u001b[0m",
      "\u001b[0;31mKeyboardInterrupt\u001b[0m                         Traceback (most recent call last)",
      "\u001b[0;32m<ipython-input-42-6eea3858f380>\u001b[0m in \u001b[0;36m<module>\u001b[0;34m\u001b[0m\n\u001b[1;32m     15\u001b[0m                \u001b[0mweight_decay\u001b[0m\u001b[0;34m,\u001b[0m\u001b[0;34m\u001b[0m\u001b[0;34m\u001b[0m\u001b[0m\n\u001b[1;32m     16\u001b[0m                \u001b[0mclip\u001b[0m\u001b[0;34m,\u001b[0m\u001b[0;34m\u001b[0m\u001b[0;34m\u001b[0m\u001b[0m\n\u001b[0;32m---> 17\u001b[0;31m               collate_fn=PadSequence())\n\u001b[0m",
      "\u001b[0;32m<ipython-input-40-e1d5faf98373>\u001b[0m in \u001b[0;36mtrainIters\u001b[0;34m(model, train_dset, valid_dset, batch_size, n_epochs, learning_rate, weight_decay, clip, collate_fn)\u001b[0m\n\u001b[1;32m     91\u001b[0m                                            \u001b[0mcriterion\u001b[0m\u001b[0;34m,\u001b[0m\u001b[0;34m\u001b[0m\u001b[0;34m\u001b[0m\u001b[0m\n\u001b[1;32m     92\u001b[0m                                            \u001b[0mclip\u001b[0m\u001b[0;34m,\u001b[0m\u001b[0;34m\u001b[0m\u001b[0;34m\u001b[0m\u001b[0m\n\u001b[0;32m---> 93\u001b[0;31m                                            lengths)\n\u001b[0m\u001b[1;32m     94\u001b[0m             \u001b[0maccuracy\u001b[0m\u001b[0;34m,\u001b[0m\u001b[0mf1\u001b[0m\u001b[0;34m,\u001b[0m\u001b[0mprecision\u001b[0m\u001b[0;34m,\u001b[0m\u001b[0mrecall\u001b[0m\u001b[0;34m=\u001b[0m\u001b[0mtest\u001b[0m\u001b[0;34m(\u001b[0m\u001b[0mtarget\u001b[0m\u001b[0;34m,\u001b[0m\u001b[0mprediction\u001b[0m\u001b[0;34m)\u001b[0m\u001b[0;34m\u001b[0m\u001b[0;34m\u001b[0m\u001b[0m\n\u001b[1;32m     95\u001b[0m             \u001b[0mavg_train\u001b[0m\u001b[0;34m.\u001b[0m\u001b[0mappend\u001b[0m\u001b[0;34m(\u001b[0m\u001b[0mtrain_loss\u001b[0m\u001b[0;34m)\u001b[0m\u001b[0;34m\u001b[0m\u001b[0;34m\u001b[0m\u001b[0m\n",
      "\u001b[0;32m<ipython-input-40-e1d5faf98373>\u001b[0m in \u001b[0;36mtrain\u001b[0;34m(input_tensor, target, model, optimiser, criterion, clip, lengths)\u001b[0m\n\u001b[1;32m      9\u001b[0m     \u001b[0mprediction\u001b[0m \u001b[0;34m=\u001b[0m \u001b[0mmodel\u001b[0m\u001b[0;34m(\u001b[0m\u001b[0minput_tensor\u001b[0m\u001b[0;34m,\u001b[0m\u001b[0mlengths\u001b[0m\u001b[0;34m=\u001b[0m\u001b[0mlengths\u001b[0m\u001b[0;34m)\u001b[0m\u001b[0;34m.\u001b[0m\u001b[0mto\u001b[0m\u001b[0;34m(\u001b[0m\u001b[0mdevice\u001b[0m\u001b[0;34m)\u001b[0m\u001b[0;34m\u001b[0m\u001b[0;34m\u001b[0m\u001b[0m\n\u001b[1;32m     10\u001b[0m     \u001b[0mloss\u001b[0m \u001b[0;34m=\u001b[0m \u001b[0mcriterion\u001b[0m\u001b[0;34m(\u001b[0m\u001b[0mprediction\u001b[0m\u001b[0;34m,\u001b[0m\u001b[0mtarget\u001b[0m\u001b[0;34m)\u001b[0m\u001b[0;34m\u001b[0m\u001b[0;34m\u001b[0m\u001b[0m\n\u001b[0;32m---> 11\u001b[0;31m     \u001b[0mloss\u001b[0m\u001b[0;34m.\u001b[0m\u001b[0mbackward\u001b[0m\u001b[0;34m(\u001b[0m\u001b[0;34m)\u001b[0m\u001b[0;34m\u001b[0m\u001b[0;34m\u001b[0m\u001b[0m\n\u001b[0m\u001b[1;32m     12\u001b[0m     \u001b[0mtorch\u001b[0m\u001b[0;34m.\u001b[0m\u001b[0mnn\u001b[0m\u001b[0;34m.\u001b[0m\u001b[0mutils\u001b[0m\u001b[0;34m.\u001b[0m\u001b[0mclip_grad_norm_\u001b[0m\u001b[0;34m(\u001b[0m\u001b[0mmodel\u001b[0m\u001b[0;34m.\u001b[0m\u001b[0mparameters\u001b[0m\u001b[0;34m(\u001b[0m\u001b[0;34m)\u001b[0m\u001b[0;34m,\u001b[0m\u001b[0mclip\u001b[0m\u001b[0;34m)\u001b[0m\u001b[0;34m\u001b[0m\u001b[0;34m\u001b[0m\u001b[0m\n\u001b[1;32m     13\u001b[0m     \u001b[0moptimiser\u001b[0m\u001b[0;34m.\u001b[0m\u001b[0mstep\u001b[0m\u001b[0;34m(\u001b[0m\u001b[0;34m)\u001b[0m\u001b[0;34m\u001b[0m\u001b[0;34m\u001b[0m\u001b[0m\n",
      "\u001b[0;32m~/miniconda3/lib/python3.7/site-packages/torch/tensor.py\u001b[0m in \u001b[0;36mbackward\u001b[0;34m(self, gradient, retain_graph, create_graph)\u001b[0m\n\u001b[1;32m    193\u001b[0m                 \u001b[0mproducts\u001b[0m\u001b[0;34m.\u001b[0m \u001b[0mDefaults\u001b[0m \u001b[0mto\u001b[0m\u001b[0;31m \u001b[0m\u001b[0;31m`\u001b[0m\u001b[0;31m`\u001b[0m\u001b[0;32mFalse\u001b[0m\u001b[0;31m`\u001b[0m\u001b[0;31m`\u001b[0m\u001b[0;34m.\u001b[0m\u001b[0;34m\u001b[0m\u001b[0;34m\u001b[0m\u001b[0m\n\u001b[1;32m    194\u001b[0m         \"\"\"\n\u001b[0;32m--> 195\u001b[0;31m         \u001b[0mtorch\u001b[0m\u001b[0;34m.\u001b[0m\u001b[0mautograd\u001b[0m\u001b[0;34m.\u001b[0m\u001b[0mbackward\u001b[0m\u001b[0;34m(\u001b[0m\u001b[0mself\u001b[0m\u001b[0;34m,\u001b[0m \u001b[0mgradient\u001b[0m\u001b[0;34m,\u001b[0m \u001b[0mretain_graph\u001b[0m\u001b[0;34m,\u001b[0m \u001b[0mcreate_graph\u001b[0m\u001b[0;34m)\u001b[0m\u001b[0;34m\u001b[0m\u001b[0;34m\u001b[0m\u001b[0m\n\u001b[0m\u001b[1;32m    196\u001b[0m \u001b[0;34m\u001b[0m\u001b[0m\n\u001b[1;32m    197\u001b[0m     \u001b[0;32mdef\u001b[0m \u001b[0mregister_hook\u001b[0m\u001b[0;34m(\u001b[0m\u001b[0mself\u001b[0m\u001b[0;34m,\u001b[0m \u001b[0mhook\u001b[0m\u001b[0;34m)\u001b[0m\u001b[0;34m:\u001b[0m\u001b[0;34m\u001b[0m\u001b[0;34m\u001b[0m\u001b[0m\n",
      "\u001b[0;32m~/miniconda3/lib/python3.7/site-packages/torch/autograd/__init__.py\u001b[0m in \u001b[0;36mbackward\u001b[0;34m(tensors, grad_tensors, retain_graph, create_graph, grad_variables)\u001b[0m\n\u001b[1;32m     97\u001b[0m     Variable._execution_engine.run_backward(\n\u001b[1;32m     98\u001b[0m         \u001b[0mtensors\u001b[0m\u001b[0;34m,\u001b[0m \u001b[0mgrad_tensors\u001b[0m\u001b[0;34m,\u001b[0m \u001b[0mretain_graph\u001b[0m\u001b[0;34m,\u001b[0m \u001b[0mcreate_graph\u001b[0m\u001b[0;34m,\u001b[0m\u001b[0;34m\u001b[0m\u001b[0;34m\u001b[0m\u001b[0m\n\u001b[0;32m---> 99\u001b[0;31m         allow_unreachable=True)  # allow_unreachable flag\n\u001b[0m\u001b[1;32m    100\u001b[0m \u001b[0;34m\u001b[0m\u001b[0m\n\u001b[1;32m    101\u001b[0m \u001b[0;34m\u001b[0m\u001b[0m\n",
      "\u001b[0;31mKeyboardInterrupt\u001b[0m: "
     ]
    },
    {
     "data": {
      "image/png": "[encoded data removed]",
      "text/plain": [
       "<Figure size 432x288 with 1 Axes>"
      ]
     },
     "metadata": {
      "needs_background": "light"
     },
     "output_type": "display_data"
    }
   ],
   "source": [
    "## CONFIG\n",
    "batch_size=64\n",
    "n_epochs=20\n",
    "learning_rate=1e-3\n",
    "weight_decay=0\n",
    "clip=.2\n",
    "## /CONFIG\n",
    "\n",
    "_,_=trainIters(model,\n",
    "               train_ds,\n",
    "               valid_ds,\n",
    "               batch_size,\n",
    "               n_epochs,\n",
    "               learning_rate,\n",
    "               weight_decay,\n",
    "               clip,\n",
    "              collate_fn=PadSequence())"
   ]
  }
 ],
 "metadata": {
  "kernelspec": {
   "display_name": "Python 3",
   "language": "python",
   "name": "python3"
  },
  "language_info": {
   "codemirror_mode": {
    "name": "ipython",
    "version": 3
   },
   "file_extension": ".py",
   "mimetype": "text/x-python",
   "name": "python",
   "nbconvert_exporter": "python",
   "pygments_lexer": "ipython3",
   "version": "3.7.3"
  }
 },
 "nbformat": 4,
 "nbformat_minor": 4
}
