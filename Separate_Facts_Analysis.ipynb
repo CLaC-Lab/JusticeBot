{
 "cells": [
  {
   "cell_type": "code",
   "execution_count": 1,
   "metadata": {},
   "outputs": [],
   "source": [
    "import torch,gensim,pandas as pd, numpy as np, math, tikzplotlib\n",
    "from nltk.tokenize import sent_tokenize, word_tokenize\n",
    "from tqdm import tqdm_notebook as tqdm\n",
    "\n",
    "from src.factsoranalysis import FactsOrAnalysis\n",
    "from src.dataset import tensorFromSentence, Lexicon\n",
    "from src.util import get_the_best_split\n",
    "device = torch.device(\"cuda\" if torch.cuda.is_available() else \"cpu\")"
   ]
  },
  {
   "cell_type": "code",
   "execution_count": 2,
   "metadata": {},
   "outputs": [],
   "source": [
    "embeddings_file=\"../frWac_non_lem_no_postag_no_phrase_200_cbow_cut100.bin\"\n",
    "embeddings = gensim.models.KeyedVectors.load_word2vec_format(embeddings_file,binary=True,unicode_errors='ignore')\n",
    "embeddings_tensor = torch.FloatTensor(embeddings.vectors)\n",
    "model=FactsOrAnalysis(embeddings_tensor).to(device)\n",
    "lexicon=Lexicon(embeddings)\n",
    "model.load_state_dict(torch.load(\"../facts_or_analysis.pt\"))"
   ]
  },
  {
   "cell_type": "code",
   "execution_count": 3,
   "metadata": {},
   "outputs": [],
   "source": [
    "# df = pd.read_csv('../datasets/output_post_clf_dataset_v2.tsv',sep='\\t')\n",
    "\n",
    "# f_a = []\n",
    "# for row in tqdm(df.iterrows(),desc=\"reading data...\"):\n",
    "#     if type(row[1].loc['Facts']) == str:\n",
    "#         f_a.append((row[1].loc['Facts'],row[1].loc['Analysis']))\n",
    "        \n",
    "# f_a=[doc for doc in f_a if type(doc[1])!=float]"
   ]
  },
  {
   "cell_type": "code",
   "execution_count": 4,
   "metadata": {},
   "outputs": [
    {
     "name": "stderr",
     "output_type": "stream",
     "text": [
      "/home/andres/miniconda3/lib/python3.7/site-packages/IPython/core/interactiveshell.py:3049: DtypeWarning: Columns (1,2) have mixed types. Specify dtype option on import or set low_memory=False.\n",
      "  interactivity=interactivity, compiler=compiler, result=result)\n"
     ]
    },
    {
     "data": {
      "application/vnd.jupyter.widget-view+json": {
       "model_id": "3cf12dfb64ff4f0d860b15d8b781a714",
       "version_major": 2,
       "version_minor": 0
      },
      "text/plain": [
       "HBox(children=(IntProgress(value=1, bar_style='info', description='reading data...', max=1, style=ProgressStyl…"
      ]
     },
     "metadata": {},
     "output_type": "display_data"
    },
    {
     "name": "stdout",
     "output_type": "stream",
     "text": [
      "\n"
     ]
    }
   ],
   "source": [
    "df_10k=pd.read_csv('../datasets/dataset_10k.csv')\n",
    "f_a_10k=[]\n",
    "\n",
    "for row in tqdm(df_10k.iterrows(),desc=\"reading data...\"):\n",
    "    if type(row[1].loc['Facts']) == str:\n",
    "        f_a_10k.append((row[1].loc['Facts'],row[1].loc['Analyses']))"
   ]
  },
  {
   "cell_type": "code",
   "execution_count": 5,
   "metadata": {},
   "outputs": [],
   "source": [
    "f_a_10k=[[doc[0].replace(\"-\",\".\"), doc[1].replace(\"-\",\".\")] for doc in f_a_10k]\n",
    "f_a_10k=[[doc[0].replace(\"\\n\",\" \"), doc[1].replace(\"\\n\",\" \")] for doc in f_a_10k]"
   ]
  },
  {
   "cell_type": "code",
   "execution_count": 6,
   "metadata": {},
   "outputs": [
    {
     "data": {
      "application/vnd.jupyter.widget-view+json": {
       "model_id": "ff1547ab3dce44bfbcf1ab80abf4a5d4",
       "version_major": 2,
       "version_minor": 0
      },
      "text/plain": [
       "HBox(children=(IntProgress(value=0, description='Getting best indices and sequences', style=ProgressStyle(desc…"
      ]
     },
     "metadata": {},
     "output_type": "display_data"
    },
    {
     "name": "stdout",
     "output_type": "stream",
     "text": [
      "\n"
     ]
    }
   ],
   "source": [
    "f_a_sample = f_a_10k[:100]\n",
    "best_indices=[]\n",
    "sequences=[]\n",
    "for i, doc in enumerate(tqdm(f_a_sample,desc=\"Getting best indices and sequences\")):\n",
    "    sentences = doc[0]+doc[1]\n",
    "    sentences_ = sentences = sent_tokenize(sentences,language='french')\n",
    "    sentences = [sentence for sentence in sentences if len(sentence.split()) > 2 and len(sentence.split()) <= 50]\n",
    "#     for index,sentence in enumerate(sentences): print(index,sentence)\n",
    "    tensors = [tensorFromSentence(lexicon,sentence) for sentence in sentences]\n",
    "    tensors = [tensor.to(device) for tensor in tensors]\n",
    "#     for index,tensor in enumerate(tensors): print(index,tensor.shape)\n",
    "    sequence = [model(tensor.view(1,-1)) for tensor in tensors]\n",
    "    sequence = [tensor.squeeze()[0].item() for tensor in sequence]\n",
    "    sequence = [round(item) for item in sequence]\n",
    "    best_index = get_the_best_split(sequence)\n",
    "    best_indices.append(best_index)\n",
    "    sequences.append(sequence)"
   ]
  },
  {
   "cell_type": "code",
   "execution_count": 7,
   "metadata": {},
   "outputs": [
    {
     "data": {
      "application/vnd.jupyter.widget-view+json": {
       "model_id": "",
       "version_major": 2,
       "version_minor": 0
      },
      "text/plain": [
       "HBox(children=(IntProgress(value=0, description='Retrieving target facts...', style=ProgressStyle(description_…"
      ]
     },
     "metadata": {},
     "output_type": "display_data"
    },
    {
     "name": "stdout",
     "output_type": "stream",
     "text": [
      "\r"
     ]
    }
   ],
   "source": [
    "f = tqdm([fa[0] for fa in f_a_sample],desc=\"Retrieving target facts...\",leave=False)\n",
    "l = np.array([len(word_tokenize(doc)) for doc in f])"
   ]
  },
  {
   "cell_type": "code",
   "execution_count": 8,
   "metadata": {},
   "outputs": [
    {
     "data": {
      "application/vnd.jupyter.widget-view+json": {
       "model_id": "3674fec7e4ab4226bc38edbf10af0bb4",
       "version_major": 2,
       "version_minor": 0
      },
      "text/plain": [
       "HBox(children=(IntProgress(value=0, description='gamma: 0.5', max=7, style=ProgressStyle(description_width='in…"
      ]
     },
     "metadata": {},
     "output_type": "display_data"
    },
    {
     "data": {
      "application/vnd.jupyter.widget-view+json": {
       "model_id": "",
       "version_major": 2,
       "version_minor": 0
      },
      "text/plain": [
       "HBox(children=(IntProgress(value=0, description='Slicing paragraphs...', style=ProgressStyle(description_width…"
      ]
     },
     "metadata": {},
     "output_type": "display_data"
    },
    {
     "name": "stdout",
     "output_type": "stream",
     "text": [
      "avg purity: 0.78\n",
      "avg nb facts: 17.45\n"
     ]
    },
    {
     "data": {
      "application/vnd.jupyter.widget-view+json": {
       "model_id": "",
       "version_major": 2,
       "version_minor": 0
      },
      "text/plain": [
       "HBox(children=(IntProgress(value=0, description='Joining sentences...', style=ProgressStyle(description_width=…"
      ]
     },
     "metadata": {},
     "output_type": "display_data"
    },
    {
     "data": {
      "application/vnd.jupyter.widget-view+json": {
       "model_id": "",
       "version_major": 2,
       "version_minor": 0
      },
      "text/plain": [
       "HBox(children=(IntProgress(value=0, description='Slicing paragraphs...', style=ProgressStyle(description_width…"
      ]
     },
     "metadata": {},
     "output_type": "display_data"
    },
    {
     "name": "stdout",
     "output_type": "stream",
     "text": [
      "avg purity: 0.77\n",
      "avg nb facts: 20.09\n"
     ]
    },
    {
     "data": {
      "application/vnd.jupyter.widget-view+json": {
       "model_id": "",
       "version_major": 2,
       "version_minor": 0
      },
      "text/plain": [
       "HBox(children=(IntProgress(value=0, description='Joining sentences...', style=ProgressStyle(description_width=…"
      ]
     },
     "metadata": {},
     "output_type": "display_data"
    },
    {
     "data": {
      "application/vnd.jupyter.widget-view+json": {
       "model_id": "",
       "version_major": 2,
       "version_minor": 0
      },
      "text/plain": [
       "HBox(children=(IntProgress(value=0, description='Slicing paragraphs...', style=ProgressStyle(description_width…"
      ]
     },
     "metadata": {},
     "output_type": "display_data"
    },
    {
     "name": "stdout",
     "output_type": "stream",
     "text": [
      "avg purity: 0.74\n",
      "avg nb facts: 22.55\n"
     ]
    },
    {
     "data": {
      "application/vnd.jupyter.widget-view+json": {
       "model_id": "",
       "version_major": 2,
       "version_minor": 0
      },
      "text/plain": [
       "HBox(children=(IntProgress(value=0, description='Joining sentences...', style=ProgressStyle(description_width=…"
      ]
     },
     "metadata": {},
     "output_type": "display_data"
    },
    {
     "data": {
      "application/vnd.jupyter.widget-view+json": {
       "model_id": "",
       "version_major": 2,
       "version_minor": 0
      },
      "text/plain": [
       "HBox(children=(IntProgress(value=0, description='Slicing paragraphs...', style=ProgressStyle(description_width…"
      ]
     },
     "metadata": {},
     "output_type": "display_data"
    },
    {
     "name": "stdout",
     "output_type": "stream",
     "text": [
      "avg purity: 0.73\n",
      "avg nb facts: 23.55\n"
     ]
    },
    {
     "data": {
      "application/vnd.jupyter.widget-view+json": {
       "model_id": "",
       "version_major": 2,
       "version_minor": 0
      },
      "text/plain": [
       "HBox(children=(IntProgress(value=0, description='Joining sentences...', style=ProgressStyle(description_width=…"
      ]
     },
     "metadata": {},
     "output_type": "display_data"
    },
    {
     "data": {
      "application/vnd.jupyter.widget-view+json": {
       "model_id": "",
       "version_major": 2,
       "version_minor": 0
      },
      "text/plain": [
       "HBox(children=(IntProgress(value=0, description='Slicing paragraphs...', style=ProgressStyle(description_width…"
      ]
     },
     "metadata": {},
     "output_type": "display_data"
    },
    {
     "name": "stdout",
     "output_type": "stream",
     "text": [
      "avg purity: 0.72\n",
      "avg nb facts: 24.51\n"
     ]
    },
    {
     "data": {
      "application/vnd.jupyter.widget-view+json": {
       "model_id": "",
       "version_major": 2,
       "version_minor": 0
      },
      "text/plain": [
       "HBox(children=(IntProgress(value=0, description='Joining sentences...', style=ProgressStyle(description_width=…"
      ]
     },
     "metadata": {},
     "output_type": "display_data"
    },
    {
     "data": {
      "application/vnd.jupyter.widget-view+json": {
       "model_id": "",
       "version_major": 2,
       "version_minor": 0
      },
      "text/plain": [
       "HBox(children=(IntProgress(value=0, description='Slicing paragraphs...', style=ProgressStyle(description_width…"
      ]
     },
     "metadata": {},
     "output_type": "display_data"
    },
    {
     "name": "stdout",
     "output_type": "stream",
     "text": [
      "avg purity: 0.71\n",
      "avg nb facts: 26.72\n"
     ]
    },
    {
     "data": {
      "application/vnd.jupyter.widget-view+json": {
       "model_id": "",
       "version_major": 2,
       "version_minor": 0
      },
      "text/plain": [
       "HBox(children=(IntProgress(value=0, description='Joining sentences...', style=ProgressStyle(description_width=…"
      ]
     },
     "metadata": {},
     "output_type": "display_data"
    },
    {
     "data": {
      "application/vnd.jupyter.widget-view+json": {
       "model_id": "",
       "version_major": 2,
       "version_minor": 0
      },
      "text/plain": [
       "HBox(children=(IntProgress(value=0, description='Slicing paragraphs...', style=ProgressStyle(description_width…"
      ]
     },
     "metadata": {},
     "output_type": "display_data"
    },
    {
     "name": "stdout",
     "output_type": "stream",
     "text": [
      "avg purity: 0.68\n",
      "avg nb facts: 29.06\n"
     ]
    },
    {
     "data": {
      "application/vnd.jupyter.widget-view+json": {
       "model_id": "",
       "version_major": 2,
       "version_minor": 0
      },
      "text/plain": [
       "HBox(children=(IntProgress(value=0, description='Joining sentences...', style=ProgressStyle(description_width=…"
      ]
     },
     "metadata": {},
     "output_type": "display_data"
    },
    {
     "name": "stdout",
     "output_type": "stream",
     "text": [
      "\n"
     ]
    }
   ],
   "source": [
    "mean_stdev=[]\n",
    "\n",
    "gamma=0.5\n",
    "gamma_iter=tqdm([.5,.6,.7,.75,.8,.9,1,],desc=\"gamma: {}\".format(gamma),leave=True)\n",
    "for gamma in gamma_iter:\n",
    "    gamma_iter.set_description(\"gamma: {}\".format(gamma))\n",
    "    fa_pred = []\n",
    "    avg_purity=[]\n",
    "    avg_nfacts=[]\n",
    "    for i, doc in enumerate(tqdm(f_a_sample,desc=\"Slicing paragraphs...\",leave=False)):\n",
    "        sentences = doc[0]+doc[1]\n",
    "        sentences = sent_tokenize(sentences,language='french')\n",
    "        index=math.floor(best_indices[i]*gamma)\n",
    "        fa_pred.append(sentences[:index+1])\n",
    "        purity=sequences[i][:index]\n",
    "        avg_nfacts.append(sum(purity))\n",
    "        try:\n",
    "            purity=sum(purity)/index\n",
    "        except ZeroDivisionError:\n",
    "            purity=1\n",
    "        avg_purity.append(purity)\n",
    "        \n",
    "    print(\"avg purity: {:.2f}\".format(sum(avg_purity)/len(avg_purity)))\n",
    "    print(\"avg nb facts: {:.2f}\".format(sum(avg_nfacts)/len(avg_purity)))\n",
    "        \n",
    "    f_pred = tqdm([\" \".join(sentence) for sentence in fa_pred],desc=\"Joining sentences...\",leave=False)\n",
    "    l_pred = np.array([len(word_tokenize(doc)) for doc in f_pred])\n",
    "    mean_stdev.append([gamma,np.mean(l_pred/l),np.std(l_pred/l)])\n",
    "    gamma_iter.refresh()\n",
    "#     print(\"avg:\",np.mean(l_pred/l))\n",
    "#     print(\"st_dev:\",np.std(l_pred/l))\n",
    "        "
   ]
  },
  {
   "cell_type": "code",
   "execution_count": 9,
   "metadata": {
    "scrolled": false
   },
   "outputs": [],
   "source": [
    "import matplotlib.pyplot as plt\n",
    "\n",
    "m = np.array(mean_stdev)"
   ]
  },
  {
   "cell_type": "code",
   "execution_count": 10,
   "metadata": {},
   "outputs": [
    {
     "data": {
      "image/png": "[encoded data removed]",
      "text/plain": [
       "<Figure size 432x288 with 2 Axes>"
      ]
     },
     "metadata": {
      "needs_background": "light"
     },
     "output_type": "display_data"
    }
   ],
   "source": [
    "plt.scatter(m[:,0], m[:,1],c=m[:,2],cmap='magma')\n",
    "plt.xlabel(\"gamma\")\n",
    "plt.ylabel(\"l_pred/l\")\n",
    "plt.colorbar().set_label(\"std_dev\")\n",
    "plt.show()"
   ]
  },
  {
   "cell_type": "code",
   "execution_count": 11,
   "metadata": {},
   "outputs": [],
   "source": [
    "m = np.array([])"
   ]
  }
 ],
 "metadata": {
  "kernelspec": {
   "display_name": "Python 3",
   "language": "python",
   "name": "python3"
  },
  "language_info": {
   "codemirror_mode": {
    "name": "ipython",
    "version": 3
   },
   "file_extension": ".py",
   "mimetype": "text/x-python",
   "name": "python",
   "nbconvert_exporter": "python",
   "pygments_lexer": "ipython3",
   "version": "3.7.3"
  }
 },
 "nbformat": 4,
 "nbformat_minor": 2
}
