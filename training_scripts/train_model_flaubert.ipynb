{
 "cells": [
  {
   "cell_type": "code",
   "execution_count": 3,
   "metadata": {},
   "outputs": [],
   "source": [
    "import torch\n",
    "\n",
    "from transformers import FlaubertForSequenceClassification, FlaubertTokenizer\n",
    "\n",
    "from src.dataset import FactsOrAnalysisDS_BERT\n",
    "from src.models import FoaFlauBERTlinear\n",
    "from src.train import trainIters\n",
    "\n",
    "device = torch.device(\"cpu\")\n",
    "flaubert_seq = FlaubertForSequenceClassification.from_pretrained('flaubert-base-uncased',num_labels=1)\n",
    "tokeniser = FlaubertTokenizer.from_pretrained('flaubert-base-uncased')\n"
   ]
  },
  {
   "cell_type": "code",
   "execution_count": 2,
   "metadata": {},
   "outputs": [],
   "source": [
    "ds = \"data/dataset_sentences_facts_non_facts20200311.pickle\"\n",
    "ds = FactsOrAnalysisDS_BERT(ds,tokeniser,n_read=2048*2)\n",
    "tr = int(len(ds)*.70)\n",
    "vd = int(len(ds)*.10)\n",
    "ts = len(ds) - tr - vd\n",
    "train_ds, valid_ds, test_ds = torch.utils.data.random_split(ds,[tr,vd,ts])"
   ]
  },
  {
   "cell_type": "code",
   "execution_count": null,
   "metadata": {
    "scrolled": false
   },
   "outputs": [],
   "source": [
    "model=FoaFlauBERTlinear(flaubert_seq).to(device)\n",
    "\n",
    "## CONFIG\n",
    "batch_size=16\n",
    "n_epochs=5\n",
    "learning_rate=1e-4\n",
    "weight_decay=0\n",
    "clip=.2\n",
    "## /CONFIG\n",
    "\n",
    "t,v=trainIters(model,\n",
    "               train_ds,\n",
    "               valid_ds,\n",
    "               batch_size,\n",
    "               n_epochs,\n",
    "               learning_rate,\n",
    "               weight_decay,\n",
    "               clip,\n",
    "               device)"
   ]
  }
 ],
 "metadata": {
  "kernelspec": {
   "display_name": "Python 3",
   "language": "python",
   "name": "python3"
  },
  "language_info": {
   "codemirror_mode": {
    "name": "ipython",
    "version": 3
   },
   "file_extension": ".py",
   "mimetype": "text/x-python",
   "name": "python",
   "nbconvert_exporter": "python",
   "pygments_lexer": "ipython3",
   "version": "3.7.3"
  }
 },
 "nbformat": 4,
 "nbformat_minor": 4
}
