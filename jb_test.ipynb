{
 "cells": [
  {
   "cell_type": "code",
   "execution_count": null,
   "metadata": {},
   "outputs": [],
   "source": [
    "import torch,gensim\n",
    "\n",
    "from src.dataset import FactsOrAnalysisDataset\n",
    "from src.factsoranalysis import FactsOrAnalysis\n",
    "from src.train import trainIters\n",
    "\n",
    "device = torch.device(\"cuda\" if torch.cuda.is_available() else \"cpu\")"
   ]
  },
  {
   "cell_type": "markdown",
   "metadata": {},
   "source": [
    "You have to manually download the pretrained embeddings file from [Jean-Philippe Fauconnier's website](https://fauconnier.github.io/), in particular, the cbow FrWac file with cut-off of 100 ([link](http://embeddings.net/frWac_non_lem_no_postag_no_phrase_200_cbow_cut100.bin)). "
   ]
  },
  {
   "cell_type": "code",
   "execution_count": null,
   "metadata": {
    "scrolled": true
   },
   "outputs": [],
   "source": [
    "embeddings_file=\"frWac_non_lem_no_postag_no_phrase_200_cbow_cut100.bin\"\n",
    "train_ds=\"data/train_data.csv\"\n",
    "valid_ds=\"data/valid_data.csv\"\n",
    "train_ds=FactsOrAnalysisDataset(train_ds,embeddings_file=embeddings_file)\n",
    "valid_ds=FactsOrAnalysisDataset(valid_ds,embeddings_file=embeddings_file)"
   ]
  },
  {
   "cell_type": "code",
   "execution_count": null,
   "metadata": {},
   "outputs": [],
   "source": [
    "embeddings = gensim.models.KeyedVectors.load_word2vec_format(embeddings_file,binary=True,unicode_errors='ignore')\n",
    "embeddings_tensor = torch.FloatTensor(embeddings.vectors)\n",
    "model=FactsOrAnalysis(embeddings_tensor).to(device)"
   ]
  },
  {
   "cell_type": "code",
   "execution_count": null,
   "metadata": {},
   "outputs": [],
   "source": [
    "## CONFIG\n",
    "batch_size=64\n",
    "n_epochs=20\n",
    "learning_rate=1e-3\n",
    "weight_decay=0\n",
    "clip=.2\n",
    "## /CONFIG\n",
    "\n",
    "trainIters(model,train_ds,valid_ds,batch_size,n_epochs,learning_rate,weight_decay,clip)"
   ]
  }
 ],
 "metadata": {
  "kernelspec": {
   "display_name": "Python 3",
   "language": "python",
   "name": "python3"
  },
  "language_info": {
   "codemirror_mode": {
    "name": "ipython",
    "version": 3
   },
   "file_extension": ".py",
   "mimetype": "text/x-python",
   "name": "python",
   "nbconvert_exporter": "python",
   "pygments_lexer": "ipython3",
   "version": "3.7.3"
  }
 },
 "nbformat": 4,
 "nbformat_minor": 2
}
