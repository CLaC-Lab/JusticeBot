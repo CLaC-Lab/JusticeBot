{
 "cells": [
  {
   "cell_type": "markdown",
   "metadata": {},
   "source": [
    "# JusticeBot Project: Classifying sentences as facts or analysis\n",
    "\n",
    "Our current task is to produce a binary classification system of sentences as **facts** or **analysis**. We use a bi-directional Recurrent Neural Network (RNN), specifically, a Gate Recurrent Unit model (GRU) to capture the various linguistic relations between the constituents of a sentence and output a two-dimensional vector representing the probability that the sentence belongs to either category.\n",
    "\n",
    "## Implementation\n",
    "\n",
    "Here we present the implementation of the classifier, which makes use of several modules and helper functions.\n",
    "\n",
    "### External libraries\n",
    "\n",
    "We use a number of external libraries to accomplish the task, in particular PyTorch, which is industry and academic standard of Deep Learning research and applications. Additionally, we include many pre-existing Python modules that specialise in tasks such as plotting, indicating progress, data frame management, etc."
   ]
  },
  {
   "cell_type": "code",
   "execution_count": 2,
   "metadata": {},
   "outputs": [
    {
     "name": "stdout",
     "output_type": "stream",
     "text": [
      "2019-07-31 13:09:28,853 - matplotlib.pyplot - DEBUG - Loaded backend nbAgg version unknown.\n"
     ]
    }
   ],
   "source": [
    "import re\n",
    "import gensim\n",
    "%matplotlib notebook\n",
    "import matplotlib.pyplot as plt\n",
    "import numpy as np\n",
    "import pandas as pd\n",
    "from tqdm import tqdm_notebook as tqdm\n",
    "from sklearn.metrics import accuracy_score, f1_score, precision_score, recall_score\n",
    "from nltk.stem.snowball import FrenchStemmer\n",
    "import spacy\n",
    "from spacy_lefff import LefffLemmatizer\n",
    "import pickle\n",
    "\n",
    "import torch\n",
    "import torch.nn as nn\n",
    "from torch import optim\n",
    "from torch.utils.data import Dataset, DataLoader\n",
    "import torch.nn.functional as F\n",
    "from torch.nn.utils.rnn import pad_sequence\n",
    "from torch.nn.utils import clip_grad_norm_\n",
    "from torch.optim.lr_scheduler import StepLR\n",
    "\n",
    "device = torch.device(\"cuda\" if torch.cuda.is_available() else \"cpu\")"
   ]
  },
  {
   "cell_type": "markdown",
   "metadata": {},
   "source": [
    "### Data preprocessing\n",
    "\n",
    "The dataset on which we train and validate our classifier is a corpus of approximately 500 M sentences labelled as either belonging to the facts or the analysis portion of the decision section of a document. The corpus is split into three sections according to standard practices: training, validation, and testing, following a distribution of 65%, 15% and 20% respectively."
   ]
  },
  {
   "cell_type": "code",
   "execution_count": 3,
   "metadata": {},
   "outputs": [],
   "source": [
    "# max_length = 50\n",
    "# train_range=281057\n",
    "# valid_range=112422\n",
    "# test_range=168634\n",
    "# datafile = './datasets/data_no_uncommon_words.csv'\n",
    "\n",
    "# train_range=921306\n",
    "# valid_range=212609+921306\n",
    "# test_range=212609+921306-1417394\n",
    "# datafile = './datasets/dataset_30k_.csv'\n",
    "# with open(datafile) as f:\n",
    "#     with open('./datasets/train_data.csv','w') as train:\n",
    "#         for n in range(train_range):\n",
    "#             line = f.readline()\n",
    "#             sentence, tag = line.split(',')\n",
    "#             sentence = re.sub(\"[0-9]*\",\"\",sentence)\n",
    "#             if sentence != '' and len(sentence.split()) <= max_length: train.write(sentence+\",\"+tag)\n",
    "#     with open('./datasets/valid_data.csv','w') as valid:\n",
    "#         for n in range(valid_range):\n",
    "#             line = f.readline()\n",
    "#             if line.split(',')[0] != '':\n",
    "#                 sentence, tag = line.split(',')\n",
    "#                 sentence = re.sub(\"[0-9]*\",\"\",sentence)\n",
    "#                 if sentence != '' and len(sentence.split()) <= max_length: valid.write(sentence+\",\"+tag)\n",
    "#     with open('./datasets/test_data.csv','w') as test:\n",
    "#         for n in range(test_range):\n",
    "#             line = f.readline()\n",
    "#             if line.split(',')[0] != '' and len(line.split(',')[0].split()) <= max_length: test.write(line)"
   ]
  },
  {
   "cell_type": "markdown",
   "metadata": {},
   "source": [
    "We experimented with stemming and lemmatising our corpus as part of the pre-processing, but ultimately found that neither process affected our performance significantly."
   ]
  },
  {
   "cell_type": "code",
   "execution_count": 4,
   "metadata": {},
   "outputs": [],
   "source": [
    "# stemmer = FrenchStemmer()\n",
    "# with open('train_data.csv') as f:\n",
    "#     with open('train_data_stem.csv','w') as g:\n",
    "#         for line in f:\n",
    "#             sentence = line.split(',')[0].split()\n",
    "#             tag = line.split(',')[1]\n",
    "#             for i in range(len(sentence)):\n",
    "#                 sentence[i] = stemmer.stem(sentence[i])\n",
    "#             sentence = ' '.join(sentence)\n",
    "#             if sentence != '':\n",
    "#                 g.write(sentence+','+tag)\n",
    "            \n",
    "# with open('valid_data.csv') as f:\n",
    "#     with open('valid_data_stem.csv','w') as g:\n",
    "#         for line in f:\n",
    "#             sentence = line.split(',')[0].split()\n",
    "#             tag = line.split(',')[1]\n",
    "#             for i in range(len(sentence)):\n",
    "#                 sentence[i] = stemmer.stem(sentence[i])\n",
    "#             sentence = ' '.join(sentence)\n",
    "#             if sentence != '':\n",
    "#                 g.write(sentence+','+tag)"
   ]
  },
  {
   "cell_type": "code",
   "execution_count": 5,
   "metadata": {},
   "outputs": [],
   "source": [
    "# nlp = spacy.load('fr')\n",
    "# french_lemmatiser = LefffLemmatizer()\n",
    "# nlp.add_pipe(french_lemmatiser, name='lefff', after='parser')\n",
    "# lines = []\n",
    "\n",
    "# with open('train_data.csv') as f:\n",
    "#     with open('train_data_lem.csv','w') as g:\n",
    "#         for line in f:\n",
    "#             sentence = line.split(',')[0]\n",
    "#             tag = line.split(',')[1]\n",
    "#             if sentence != \"\":\n",
    "#                 sentence = nlp(sentence)\n",
    "#                 sentence = [word.lemma_ for word in sentence]\n",
    "#                 sentence = ' '.join(sentence)\n",
    "#                 sentence = sentence+','+tag\n",
    "#                 lines.append(sentence)\n",
    "#         for line in lines: g.write(line)\n",
    "\n",
    "# lines = []                \n",
    "# with open('valid_data.csv') as f:\n",
    "#     with open('valid_data_lem.csv','w') as g:\n",
    "#         for line in f:\n",
    "#             sentence = line.split(',')[0]\n",
    "#             tag = line.split(',')[1]\n",
    "#             if sentence != \"\":\n",
    "#                 sentence = nlp(sentence)\n",
    "#                 sentence = [word.lemma_ for word in sentence]\n",
    "#                 sentence = ' '.join(sentence)\n",
    "#                 sentence = sentence+','+tag\n",
    "#                 lines.append(sentence)\n",
    "#         for line in lines: g.write(line)"
   ]
  },
  {
   "cell_type": "markdown",
   "metadata": {},
   "source": [
    "### Implementation of helper classes and functions\n",
    "Our classification system uses a pre-trained word embedding model taken from the [WaCKy group](https://wacky.sslmit.unibo.it/doku.php?id=corpora), consisting of 155,562 word vectors designed to preserve semantic relations amongst its elements."
   ]
  },
  {
   "cell_type": "code",
   "execution_count": 6,
   "metadata": {},
   "outputs": [
    {
     "name": "stdout",
     "output_type": "stream",
     "text": [
      "2019-07-31 13:09:28,912 - gensim.models.utils_any2vec - INFO - loading projection weights from ./frWac_non_lem_no_postag_no_phrase_200_cbow_cut100.bin\n",
      "2019-07-31 13:09:28,914 - smart_open.smart_open_lib - DEBUG - {'uri': './frWac_non_lem_no_postag_no_phrase_200_cbow_cut100.bin', 'mode': 'rb', 'buffering': -1, 'encoding': None, 'errors': None, 'newline': None, 'closefd': True, 'opener': None, 'ignore_ext': False, 'transport_params': None}\n",
      "2019-07-31 13:09:31,151 - gensim.models.utils_any2vec - INFO - loaded (155562, 200) matrix from ./frWac_non_lem_no_postag_no_phrase_200_cbow_cut100.bin\n"
     ]
    }
   ],
   "source": [
    "embeddings_file = \"./frWac_non_lem_no_postag_no_phrase_200_cbow_cut100.bin\"\n",
    "embeddings = gensim.models.KeyedVectors.load_word2vec_format(embeddings_file,binary=True,unicode_errors='ignore')\n",
    "embeddings_tensor = torch.FloatTensor(embeddings.vectors)"
   ]
  },
  {
   "cell_type": "markdown",
   "metadata": {},
   "source": [
    "The `Lexicon` class is a helper class that contains mappings of words to indices, mappings of indices to words, and the total number of words in our embeddings model. This information will be useful when extracting the words from each sentence in our input and looking it up in our embeddings model."
   ]
  },
  {
   "cell_type": "code",
   "execution_count": 7,
   "metadata": {},
   "outputs": [],
   "source": [
    "class Lexicon:\n",
    "    def __init__(self,embeddings):\n",
    "        self.word2index = {token: token_index for token_index, token in enumerate(embeddings.index2word)}\n",
    "        self.index2word = embeddings.index2word\n",
    "        self.n_words = len(embeddings.index2word)\n",
    "        \n",
    "lexicon = Lexicon(embeddings)\n",
    "with open('lexicon','wb') as file:\n",
    "    pickle.dump(lexicon,file)"
   ]
  },
  {
   "cell_type": "markdown",
   "metadata": {},
   "source": [
    "Our dataset is wrapped in the `FactsOrAnalysisDataset` subclass, meant to go along with the PyTorch `DataLoader` class, which allows for the simple creations of mini-batches, amongst other functionalities. The data is loaded as a Pandas dataframe as is processed at the `__getitem__` method so that each sentence is returned as a constant-length list of indices; these will be used to call the embedding vectors representing each word in the sentence. The code for the methods `indexesFromSentence`, `tensorFromSentence`, and `tensorsFromPair` was taken from the [Translation using seq2seq](https://pytorch.org/tutorials/intermediate/seq2seq_translation_tutorial.html) tutorial by Sean Robertson."
   ]
  },
  {
   "cell_type": "code",
   "execution_count": 8,
   "metadata": {},
   "outputs": [],
   "source": [
    "class FactsOrAnalysisDataset(Dataset):\n",
    "    def __init__(self,csv_file,max_length,lexicon,n_sentences=0):\n",
    "        self.facts_or_analysis_frame = pd.read_csv(csv_file)\n",
    "        if n_sentences > 0:\n",
    "            self.facts_or_analysis_frame = self.facts_or_analysis_frame.iloc[0:n_sentences]\n",
    "        self.max_length = max_length\n",
    "        self.n_of_sentences = len(self.facts_or_analysis_frame.index) if n_sentences == 0 else n_sentences\n",
    "        self.lexicon = lexicon\n",
    "        self.n_unk = set()\n",
    "        self.n_words=set()\n",
    "    \n",
    "    def __len__(self):\n",
    "        return len(self.facts_or_analysis_frame)\n",
    "    \n",
    "    def __getitem__(self,index):\n",
    "        sentence = self.facts_or_analysis_frame.iloc[index,0]\n",
    "        annotation = self.facts_or_analysis_frame.iloc[index,1]\n",
    "        tensor = self.tensorsFromPair(self.lexicon,(sentence,annotation))\n",
    "        padding = self.max_length - len(tensor[0])\n",
    "        tensor[0] = F.pad(tensor[0], pad=(0, padding), mode='constant', value=0)\n",
    "        return tensor\n",
    "    \n",
    "    def indexesFromSentence(self,lexicon, sentence):\n",
    "        index_list = []\n",
    "        sentence = sentence.split(' ')\n",
    "        for word in sentence:\n",
    "            try:\n",
    "                index = lexicon.word2index[word]\n",
    "                self.n_words.add(word)\n",
    "            except:\n",
    "                index = 0\n",
    "                self.n_unk.add(word)\n",
    "            index_list.append(index)\n",
    "        return index_list\n",
    "\n",
    "    def tensorFromSentence(self,lexicon, sentence):\n",
    "        indexes = self.indexesFromSentence(lexicon, sentence)\n",
    "        return torch.tensor(indexes, dtype=torch.long)\n",
    "\n",
    "    def tensorsFromPair(self,lexicon,pair):\n",
    "        input_tensor = self.tensorFromSentence(lexicon, pair[0])\n",
    "        target = pair[1]\n",
    "        target_tensor = torch.tensor([1,0], dtype=torch.float) if target==1 else torch.tensor([0,1], dtype=torch.float)\n",
    "        return [input_tensor, target_tensor]        "
   ]
  },
  {
   "cell_type": "markdown",
   "metadata": {},
   "source": [
    "The `FactsOrAnalysis` class is the implementation of the architecture of our model. It consists of a multi-layered GRU network whose last hidden state is fed into an affine linear layer, which produces a 2D vector representing the probabilities of the sentence belonging to either the facts or the analysis sections of the text."
   ]
  },
  {
   "cell_type": "code",
   "execution_count": 9,
   "metadata": {},
   "outputs": [],
   "source": [
    "class FactsOrAnalysis(nn.Module):\n",
    "    def __init__(self,hidden_size,dropout=.5,gru_dropout=.3,embedding_size=200):\n",
    "        super(FactsOrAnalysis, self).__init__()\n",
    "        self.hidden_size = hidden_size\n",
    "        self.embedding_size = embedding_size\n",
    "        self.embedding = nn.Embedding.from_pretrained(embeddings_tensor)\n",
    "        self.rnn = nn.GRU(embedding_size,\n",
    "                          hidden_size,\n",
    "                          num_layers=3,\n",
    "                          batch_first=True,\n",
    "                          bidirectional=True,\n",
    "                          dropout=gru_dropout)\n",
    "        self.linear = nn.Linear(hidden_size,2)\n",
    "        self.softmax = nn.Softmax(dim=1)\n",
    "        self.drop = nn.Dropout(dropout)\n",
    "    \n",
    "    def forward(self,input_tensor):\n",
    "        output = self.embedding(input_tensor)\n",
    "        output = self.drop(output)\n",
    "        _, hidden = self.rnn(output)\n",
    "        hidden = hidden[0]\n",
    "#         hidden = self.drop(hidden)\n",
    "        output = self.linear(hidden)\n",
    "        return self.softmax(output)\n",
    "    \n",
    "    def initHidden(self):\n",
    "        return torch.zeros(1, 1, self.hidden_size, device=device)   "
   ]
  },
  {
   "cell_type": "markdown",
   "metadata": {},
   "source": [
    "The `train` function is the implementation of the training algorithm of our model for a single batch of sequences. The `valid` function, representing the validation step of the training, follows a similar implementation, except is skips the backward pass and the update on the parameters."
   ]
  },
  {
   "cell_type": "code",
   "execution_count": 10,
   "metadata": {},
   "outputs": [],
   "source": [
    "def train(input_tensor,target,model,optimiser,criterion):\n",
    "    model.train()\n",
    "    hidden = model.initHidden()\n",
    "    optimiser.zero_grad()\n",
    "    prediction = model(input_tensor)\n",
    "    loss = criterion(prediction,target)\n",
    "    loss.backward()\n",
    "    clip_grad_norm_(model.parameters(),clip)\n",
    "    optimiser.step()\n",
    "    return loss.item(), prediction"
   ]
  },
  {
   "cell_type": "code",
   "execution_count": 11,
   "metadata": {},
   "outputs": [],
   "source": [
    "def valid(input_tensor,target,model,criterion):\n",
    "    model.eval()\n",
    "    prediction = model(input_tensor)\n",
    "    loss = criterion(prediction,target)\n",
    "    return loss.item(), prediction"
   ]
  },
  {
   "cell_type": "markdown",
   "metadata": {},
   "source": [
    "The `test` function is a simple wrapper of Scikit-Learn's implementation of the F1 score and accuracy metrics."
   ]
  },
  {
   "cell_type": "code",
   "execution_count": 12,
   "metadata": {},
   "outputs": [],
   "source": [
    "def test(target_tensor,prediction_tensor):\n",
    "    t = target_tensor.cpu().detach().numpy()\n",
    "    t = np.array([target[0] for target in t])\n",
    "    \n",
    "    p = prediction_tensor.cpu().detach().numpy()\n",
    "    p = np.array([predic[0] for predic in p])\n",
    "    p = p.round()\n",
    "            \n",
    "    return accuracy_score(t,p), f1_score(t,p), precision_score(t,p), recall_score(t,p)"
   ]
  },
  {
   "cell_type": "markdown",
   "metadata": {},
   "source": [
    "The `trainIters` function implements the full training run over a dataset, including the setting of most all hyperparameters that we considered. It also contains the code for plotting the learning curves over the number of epochs."
   ]
  },
  {
   "cell_type": "code",
   "execution_count": 54,
   "metadata": {},
   "outputs": [],
   "source": [
    "def trainIters(model,train_dset,valid_dset,batch_size,n_epochs,learning_rate,weight_decay):\n",
    "    ###########################################\n",
    "    ## Stuff related to plotting ##############\n",
    "    ###########################################\n",
    "    plot_train_losses = []\n",
    "    plot_valid_losses = []\n",
    "    plot_train_acc = []\n",
    "    plot_valid_acc = []\n",
    "    plot_train_f1 = []\n",
    "    plot_valid_f1 = []\n",
    "    plot_loss = 0\n",
    "    plot_count = 0\n",
    "    \n",
    "    fig = plt.figure()\n",
    "    ax = fig.add_subplot(111)\n",
    "    plt.ion()\n",
    "    plt.ylim(0, 1)\n",
    "    plt.xlim(0, n_epochs)\n",
    "    plt.title(\"Learning curve\")\n",
    "    plt.xlabel('Number of epochs')\n",
    "    plt.ylabel('Loss value')\n",
    "    ax.plot(plot_train_losses,label='Training loss')\n",
    "    ax.plot(plot_valid_losses,label='Validation loss')\n",
    "    ax.text(n_epochs/2,0.9,'Training accuracy:')\n",
    "    ax.text(n_epochs/2,0.85,'Validation accuracy:')\n",
    "    ax.text(n_epochs/2,0.75,'Training f1:')\n",
    "    ax.text(n_epochs/2,0.70,'Validation f1:')\n",
    "    fig.show()\n",
    "    fig.canvas.draw()\n",
    "    ###########################################\n",
    "    ## Stuff related to plotting ##############\n",
    "    ###########################################\n",
    "        \n",
    "    print(\"CUDA is available!\" if torch.cuda.is_available() else \"NO CUDA 4 U\")\n",
    "    \n",
    "    optimiser = optim.Adam(model.parameters(), lr=learning_rate,weight_decay=weight_decay)\n",
    "    criterion = nn.BCELoss()\n",
    "    train_dl = DataLoader(train_dset, batch_size=batch_size)\n",
    "    valid_dl = DataLoader(valid_dset, batch_size=batch_size)\n",
    "    \n",
    "    for epoch in tqdm(range(1,n_epochs+1),desc='Epoch'):\n",
    "        train_it = tqdm(train_dl,desc='Training',leave=False)\n",
    "        for x,y in train_it:\n",
    "            plot_count+=1\n",
    "            input_tensor = x.to(device)\n",
    "            target = y.to(device)\n",
    "            train_loss, prediction = train(input_tensor,target,model,optimiser,criterion)\n",
    "            plot_loss+=train_loss\n",
    "            accuracy, f1, precision, recall = test(y,prediction)\n",
    "            plot_train_acc.append(accuracy)\n",
    "            plot_train_f1.append(f1)\n",
    "            train_it.set_description('Training accuracy: {:.4f}'.format(accuracy))\n",
    "            train_it.refresh()\n",
    "        \n",
    "        ####################################\n",
    "        ## Stuff related to plotting #######\n",
    "        ####################################\n",
    "        plot_loss_avg = plot_loss / plot_count\n",
    "        plot_train_losses.append(plot_loss_avg)\n",
    "        plot_loss = 0\n",
    "        plot_count = 0\n",
    "        ####################################\n",
    "        ## Stuff related to plotting #######\n",
    "        ####################################\n",
    "        \n",
    "        with torch.no_grad():\n",
    "            counter = 0\n",
    "            valid_loss = 0\n",
    "            valid_it = tqdm(valid_dl,desc='Validation',leave=False)\n",
    "            for x, y in valid_it:\n",
    "                counter+=1\n",
    "                input_tensor = x.to(device)\n",
    "                target = y.to(device)\n",
    "                v_loss, valid_pred = valid(input_tensor,target,model,criterion)\n",
    "                valid_loss+=v_loss\n",
    "                valid_acc, valid_f1, valid_prec, valid_rec = test(y,valid_pred)\n",
    "                plot_valid_acc.append(valid_acc)\n",
    "                plot_valid_f1.append(valid_f1)\n",
    "                valid_it.set_description('Validation accuracy: {:.4f}'.format(valid_acc))\n",
    "                valid_it.refresh()\n",
    "                \n",
    "            plot_valid_losses.append(valid_loss/counter)\n",
    "            \n",
    "        \n",
    "#         if epoch % 6 == 0:\n",
    "#             for g in optimiser.param_groups:\n",
    "#                 g['lr'] = g['lr']*0.1\n",
    "\n",
    "        ####################################\n",
    "        ## Stuff related to plotting #######\n",
    "        ####################################\n",
    "        tr_acc = sum(plot_train_acc)/len(plot_train_acc)\n",
    "        tr_f1 = sum(plot_train_f1)/len(plot_train_f1)\n",
    "        va_acc = sum(plot_valid_acc)/len(plot_valid_acc)\n",
    "        va_f1 = sum(plot_valid_f1)/len(plot_valid_f1)\n",
    "    \n",
    "        ax.clear()\n",
    "        plt.ylim(0, 1)\n",
    "        plt.xlim(0, n_epochs)\n",
    "        plt.title(\"Learning curve\")\n",
    "        plt.xlabel('Number of epochs')\n",
    "        plt.ylabel('Loss value')\n",
    "        ax.plot(plot_train_losses,label='Training loss')\n",
    "        ax.plot(plot_valid_losses,label='Validation loss')\n",
    "        ax.text(n_epochs/2,0.9,'Training accuracy: {:.4f}'.format(tr_acc))\n",
    "        ax.text(n_epochs/2,0.85,'Validation accuracy: {:.4f}'.format(va_acc))\n",
    "        ax.text(n_epochs/2,0.75,'Training f1: {:.4f}'.format(tr_f1))\n",
    "        ax.text(n_epochs/2,0.70,'Validation f1: {:.4f}'.format(va_f1))\n",
    "        plt.legend(loc='upper left')\n",
    "        fig.canvas.draw()"
   ]
  },
  {
   "cell_type": "markdown",
   "metadata": {},
   "source": [
    "## Experimental run\n",
    "Once the implementation is complete, the experiments consist mostly of loading the dataset, adjusting the hyperparameters, and training the model.\n",
    "\n",
    "First, we load the split dataset into their corresponding training and validation containers."
   ]
  },
  {
   "cell_type": "code",
   "execution_count": 13,
   "metadata": {
    "scrolled": false
   },
   "outputs": [],
   "source": [
    "train_ds = FactsOrAnalysisDataset('./datasets/train_data.csv',lexicon=lexicon,max_length=50,n_sentences=0)\n",
    "valid_ds = FactsOrAnalysisDataset('./datasets/valid_data.csv',lexicon=lexicon,max_length=50,n_sentences=0)\n",
    "test__ds = FactsOrAnalysisDataset('./datasets/test_data.csv',lexicon=lexicon,max_length=50,n_sentences=0)"
   ]
  },
  {
   "cell_type": "markdown",
   "metadata": {},
   "source": [
    "Next, we create the model and adjust the hyperparameters"
   ]
  },
  {
   "cell_type": "code",
   "execution_count": 70,
   "metadata": {},
   "outputs": [],
   "source": [
    "hidden_size = 256\n",
    "model = FactsOrAnalysis(hidden_size,dropout=0,gru_dropout=0).to(device)\n",
    "batch_size = 512\n",
    "learning_rate = 1e-3\n",
    "n_epochs = 40\n",
    "clip = 0.2\n",
    "weight_decay=0.0001"
   ]
  },
  {
   "cell_type": "markdown",
   "metadata": {},
   "source": [
    "Finally, we call `trainIters` to begin the training of the model."
   ]
  },
  {
   "cell_type": "code",
   "execution_count": 71,
   "metadata": {},
   "outputs": [
    {
     "data": {
      "application/javascript": [
       "/* Put everything inside the global mpl namespace */\n",
       "window.mpl = {};\n",
       "\n",
       "\n",
       "mpl.get_websocket_type = function() {\n",
       "    if (typeof(WebSocket) !== 'undefined') {\n",
       "        return WebSocket;\n",
       "    } else if (typeof(MozWebSocket) !== 'undefined') {\n",
       "        return MozWebSocket;\n",
       "    } else {\n",
       "        alert('Your browser does not have WebSocket support.' +\n",
       "              'Please try Chrome, Safari or Firefox ≥ 6. ' +\n",
       "              'Firefox 4 and 5 are also supported but you ' +\n",
       "              'have to enable WebSockets in about:config.');\n",
       "    };\n",
       "}\n",
       "\n",
       "mpl.figure = function(figure_id, websocket, ondownload, parent_element) {\n",
       "    this.id = figure_id;\n",
       "\n",
       "    this.ws = websocket;\n",
       "\n",
       "    this.supports_binary = (this.ws.binaryType != undefined);\n",
       "\n",
       "    if (!this.supports_binary) {\n",
       "        var warnings = document.getElementById(\"mpl-warnings\");\n",
       "        if (warnings) {\n",
       "            warnings.style.display = 'block';\n",
       "            warnings.textContent = (\n",
       "                \"This browser does not support binary websocket messages. \" +\n",
       "                    \"Performance may be slow.\");\n",
       "        }\n",
       "    }\n",
       "\n",
       "    this.imageObj = new Image();\n",
       "\n",
       "    this.context = undefined;\n",
       "    this.message = undefined;\n",
       "    this.canvas = undefined;\n",
       "    this.rubberband_canvas = undefined;\n",
       "    this.rubberband_context = undefined;\n",
       "    this.format_dropdown = undefined;\n",
       "\n",
       "    this.image_mode = 'full';\n",
       "\n",
       "    this.root = $('<div/>');\n",
       "    this._root_extra_style(this.root)\n",
       "    this.root.attr('style', 'display: inline-block');\n",
       "\n",
       "    $(parent_element).append(this.root);\n",
       "\n",
       "    this._init_header(this);\n",
       "    this._init_canvas(this);\n",
       "    this._init_toolbar(this);\n",
       "\n",
       "    var fig = this;\n",
       "\n",
       "    this.waiting = false;\n",
       "\n",
       "    this.ws.onopen =  function () {\n",
       "            fig.send_message(\"supports_binary\", {value: fig.supports_binary});\n",
       "            fig.send_message(\"send_image_mode\", {});\n",
       "            if (mpl.ratio != 1) {\n",
       "                fig.send_message(\"set_dpi_ratio\", {'dpi_ratio': mpl.ratio});\n",
       "            }\n",
       "            fig.send_message(\"refresh\", {});\n",
       "        }\n",
       "\n",
       "    this.imageObj.onload = function() {\n",
       "            if (fig.image_mode == 'full') {\n",
       "                // Full images could contain transparency (where diff images\n",
       "                // almost always do), so we need to clear the canvas so that\n",
       "                // there is no ghosting.\n",
       "                fig.context.clearRect(0, 0, fig.canvas.width, fig.canvas.height);\n",
       "            }\n",
       "            fig.context.drawImage(fig.imageObj, 0, 0);\n",
       "        };\n",
       "\n",
       "    this.imageObj.onunload = function() {\n",
       "        fig.ws.close();\n",
       "    }\n",
       "\n",
       "    this.ws.onmessage = this._make_on_message_function(this);\n",
       "\n",
       "    this.ondownload = ondownload;\n",
       "}\n",
       "\n",
       "mpl.figure.prototype._init_header = function() {\n",
       "    var titlebar = $(\n",
       "        '<div class=\"ui-dialog-titlebar ui-widget-header ui-corner-all ' +\n",
       "        'ui-helper-clearfix\"/>');\n",
       "    var titletext = $(\n",
       "        '<div class=\"ui-dialog-title\" style=\"width: 100%; ' +\n",
       "        'text-align: center; padding: 3px;\"/>');\n",
       "    titlebar.append(titletext)\n",
       "    this.root.append(titlebar);\n",
       "    this.header = titletext[0];\n",
       "}\n",
       "\n",
       "\n",
       "\n",
       "mpl.figure.prototype._canvas_extra_style = function(canvas_div) {\n",
       "\n",
       "}\n",
       "\n",
       "\n",
       "mpl.figure.prototype._root_extra_style = function(canvas_div) {\n",
       "\n",
       "}\n",
       "\n",
       "mpl.figure.prototype._init_canvas = function() {\n",
       "    var fig = this;\n",
       "\n",
       "    var canvas_div = $('<div/>');\n",
       "\n",
       "    canvas_div.attr('style', 'position: relative; clear: both; outline: 0');\n",
       "\n",
       "    function canvas_keyboard_event(event) {\n",
       "        return fig.key_event(event, event['data']);\n",
       "    }\n",
       "\n",
       "    canvas_div.keydown('key_press', canvas_keyboard_event);\n",
       "    canvas_div.keyup('key_release', canvas_keyboard_event);\n",
       "    this.canvas_div = canvas_div\n",
       "    this._canvas_extra_style(canvas_div)\n",
       "    this.root.append(canvas_div);\n",
       "\n",
       "    var canvas = $('<canvas/>');\n",
       "    canvas.addClass('mpl-canvas');\n",
       "    canvas.attr('style', \"left: 0; top: 0; z-index: 0; outline: 0\")\n",
       "\n",
       "    this.canvas = canvas[0];\n",
       "    this.context = canvas[0].getContext(\"2d\");\n",
       "\n",
       "    var backingStore = this.context.backingStorePixelRatio ||\n",
       "\tthis.context.webkitBackingStorePixelRatio ||\n",
       "\tthis.context.mozBackingStorePixelRatio ||\n",
       "\tthis.context.msBackingStorePixelRatio ||\n",
       "\tthis.context.oBackingStorePixelRatio ||\n",
       "\tthis.context.backingStorePixelRatio || 1;\n",
       "\n",
       "    mpl.ratio = (window.devicePixelRatio || 1) / backingStore;\n",
       "\n",
       "    var rubberband = $('<canvas/>');\n",
       "    rubberband.attr('style', \"position: absolute; left: 0; top: 0; z-index: 1;\")\n",
       "\n",
       "    var pass_mouse_events = true;\n",
       "\n",
       "    canvas_div.resizable({\n",
       "        start: function(event, ui) {\n",
       "            pass_mouse_events = false;\n",
       "        },\n",
       "        resize: function(event, ui) {\n",
       "            fig.request_resize(ui.size.width, ui.size.height);\n",
       "        },\n",
       "        stop: function(event, ui) {\n",
       "            pass_mouse_events = true;\n",
       "            fig.request_resize(ui.size.width, ui.size.height);\n",
       "        },\n",
       "    });\n",
       "\n",
       "    function mouse_event_fn(event) {\n",
       "        if (pass_mouse_events)\n",
       "            return fig.mouse_event(event, event['data']);\n",
       "    }\n",
       "\n",
       "    rubberband.mousedown('button_press', mouse_event_fn);\n",
       "    rubberband.mouseup('button_release', mouse_event_fn);\n",
       "    // Throttle sequential mouse events to 1 every 20ms.\n",
       "    rubberband.mousemove('motion_notify', mouse_event_fn);\n",
       "\n",
       "    rubberband.mouseenter('figure_enter', mouse_event_fn);\n",
       "    rubberband.mouseleave('figure_leave', mouse_event_fn);\n",
       "\n",
       "    canvas_div.on(\"wheel\", function (event) {\n",
       "        event = event.originalEvent;\n",
       "        event['data'] = 'scroll'\n",
       "        if (event.deltaY < 0) {\n",
       "            event.step = 1;\n",
       "        } else {\n",
       "            event.step = -1;\n",
       "        }\n",
       "        mouse_event_fn(event);\n",
       "    });\n",
       "\n",
       "    canvas_div.append(canvas);\n",
       "    canvas_div.append(rubberband);\n",
       "\n",
       "    this.rubberband = rubberband;\n",
       "    this.rubberband_canvas = rubberband[0];\n",
       "    this.rubberband_context = rubberband[0].getContext(\"2d\");\n",
       "    this.rubberband_context.strokeStyle = \"#000000\";\n",
       "\n",
       "    this._resize_canvas = function(width, height) {\n",
       "        // Keep the size of the canvas, canvas container, and rubber band\n",
       "        // canvas in synch.\n",
       "        canvas_div.css('width', width)\n",
       "        canvas_div.css('height', height)\n",
       "\n",
       "        canvas.attr('width', width * mpl.ratio);\n",
       "        canvas.attr('height', height * mpl.ratio);\n",
       "        canvas.attr('style', 'width: ' + width + 'px; height: ' + height + 'px;');\n",
       "\n",
       "        rubberband.attr('width', width);\n",
       "        rubberband.attr('height', height);\n",
       "    }\n",
       "\n",
       "    // Set the figure to an initial 600x600px, this will subsequently be updated\n",
       "    // upon first draw.\n",
       "    this._resize_canvas(600, 600);\n",
       "\n",
       "    // Disable right mouse context menu.\n",
       "    $(this.rubberband_canvas).bind(\"contextmenu\",function(e){\n",
       "        return false;\n",
       "    });\n",
       "\n",
       "    function set_focus () {\n",
       "        canvas.focus();\n",
       "        canvas_div.focus();\n",
       "    }\n",
       "\n",
       "    window.setTimeout(set_focus, 100);\n",
       "}\n",
       "\n",
       "mpl.figure.prototype._init_toolbar = function() {\n",
       "    var fig = this;\n",
       "\n",
       "    var nav_element = $('<div/>')\n",
       "    nav_element.attr('style', 'width: 100%');\n",
       "    this.root.append(nav_element);\n",
       "\n",
       "    // Define a callback function for later on.\n",
       "    function toolbar_event(event) {\n",
       "        return fig.toolbar_button_onclick(event['data']);\n",
       "    }\n",
       "    function toolbar_mouse_event(event) {\n",
       "        return fig.toolbar_button_onmouseover(event['data']);\n",
       "    }\n",
       "\n",
       "    for(var toolbar_ind in mpl.toolbar_items) {\n",
       "        var name = mpl.toolbar_items[toolbar_ind][0];\n",
       "        var tooltip = mpl.toolbar_items[toolbar_ind][1];\n",
       "        var image = mpl.toolbar_items[toolbar_ind][2];\n",
       "        var method_name = mpl.toolbar_items[toolbar_ind][3];\n",
       "\n",
       "        if (!name) {\n",
       "            // put a spacer in here.\n",
       "            continue;\n",
       "        }\n",
       "        var button = $('<button/>');\n",
       "        button.addClass('ui-button ui-widget ui-state-default ui-corner-all ' +\n",
       "                        'ui-button-icon-only');\n",
       "        button.attr('role', 'button');\n",
       "        button.attr('aria-disabled', 'false');\n",
       "        button.click(method_name, toolbar_event);\n",
       "        button.mouseover(tooltip, toolbar_mouse_event);\n",
       "\n",
       "        var icon_img = $('<span/>');\n",
       "        icon_img.addClass('ui-button-icon-primary ui-icon');\n",
       "        icon_img.addClass(image);\n",
       "        icon_img.addClass('ui-corner-all');\n",
       "\n",
       "        var tooltip_span = $('<span/>');\n",
       "        tooltip_span.addClass('ui-button-text');\n",
       "        tooltip_span.html(tooltip);\n",
       "\n",
       "        button.append(icon_img);\n",
       "        button.append(tooltip_span);\n",
       "\n",
       "        nav_element.append(button);\n",
       "    }\n",
       "\n",
       "    var fmt_picker_span = $('<span/>');\n",
       "\n",
       "    var fmt_picker = $('<select/>');\n",
       "    fmt_picker.addClass('mpl-toolbar-option ui-widget ui-widget-content');\n",
       "    fmt_picker_span.append(fmt_picker);\n",
       "    nav_element.append(fmt_picker_span);\n",
       "    this.format_dropdown = fmt_picker[0];\n",
       "\n",
       "    for (var ind in mpl.extensions) {\n",
       "        var fmt = mpl.extensions[ind];\n",
       "        var option = $(\n",
       "            '<option/>', {selected: fmt === mpl.default_extension}).html(fmt);\n",
       "        fmt_picker.append(option)\n",
       "    }\n",
       "\n",
       "    // Add hover states to the ui-buttons\n",
       "    $( \".ui-button\" ).hover(\n",
       "        function() { $(this).addClass(\"ui-state-hover\");},\n",
       "        function() { $(this).removeClass(\"ui-state-hover\");}\n",
       "    );\n",
       "\n",
       "    var status_bar = $('<span class=\"mpl-message\"/>');\n",
       "    nav_element.append(status_bar);\n",
       "    this.message = status_bar[0];\n",
       "}\n",
       "\n",
       "mpl.figure.prototype.request_resize = function(x_pixels, y_pixels) {\n",
       "    // Request matplotlib to resize the figure. Matplotlib will then trigger a resize in the client,\n",
       "    // which will in turn request a refresh of the image.\n",
       "    this.send_message('resize', {'width': x_pixels, 'height': y_pixels});\n",
       "}\n",
       "\n",
       "mpl.figure.prototype.send_message = function(type, properties) {\n",
       "    properties['type'] = type;\n",
       "    properties['figure_id'] = this.id;\n",
       "    this.ws.send(JSON.stringify(properties));\n",
       "}\n",
       "\n",
       "mpl.figure.prototype.send_draw_message = function() {\n",
       "    if (!this.waiting) {\n",
       "        this.waiting = true;\n",
       "        this.ws.send(JSON.stringify({type: \"draw\", figure_id: this.id}));\n",
       "    }\n",
       "}\n",
       "\n",
       "\n",
       "mpl.figure.prototype.handle_save = function(fig, msg) {\n",
       "    var format_dropdown = fig.format_dropdown;\n",
       "    var format = format_dropdown.options[format_dropdown.selectedIndex].value;\n",
       "    fig.ondownload(fig, format);\n",
       "}\n",
       "\n",
       "\n",
       "mpl.figure.prototype.handle_resize = function(fig, msg) {\n",
       "    var size = msg['size'];\n",
       "    if (size[0] != fig.canvas.width || size[1] != fig.canvas.height) {\n",
       "        fig._resize_canvas(size[0], size[1]);\n",
       "        fig.send_message(\"refresh\", {});\n",
       "    };\n",
       "}\n",
       "\n",
       "mpl.figure.prototype.handle_rubberband = function(fig, msg) {\n",
       "    var x0 = msg['x0'] / mpl.ratio;\n",
       "    var y0 = (fig.canvas.height - msg['y0']) / mpl.ratio;\n",
       "    var x1 = msg['x1'] / mpl.ratio;\n",
       "    var y1 = (fig.canvas.height - msg['y1']) / mpl.ratio;\n",
       "    x0 = Math.floor(x0) + 0.5;\n",
       "    y0 = Math.floor(y0) + 0.5;\n",
       "    x1 = Math.floor(x1) + 0.5;\n",
       "    y1 = Math.floor(y1) + 0.5;\n",
       "    var min_x = Math.min(x0, x1);\n",
       "    var min_y = Math.min(y0, y1);\n",
       "    var width = Math.abs(x1 - x0);\n",
       "    var height = Math.abs(y1 - y0);\n",
       "\n",
       "    fig.rubberband_context.clearRect(\n",
       "        0, 0, fig.canvas.width, fig.canvas.height);\n",
       "\n",
       "    fig.rubberband_context.strokeRect(min_x, min_y, width, height);\n",
       "}\n",
       "\n",
       "mpl.figure.prototype.handle_figure_label = function(fig, msg) {\n",
       "    // Updates the figure title.\n",
       "    fig.header.textContent = msg['label'];\n",
       "}\n",
       "\n",
       "mpl.figure.prototype.handle_cursor = function(fig, msg) {\n",
       "    var cursor = msg['cursor'];\n",
       "    switch(cursor)\n",
       "    {\n",
       "    case 0:\n",
       "        cursor = 'pointer';\n",
       "        break;\n",
       "    case 1:\n",
       "        cursor = 'default';\n",
       "        break;\n",
       "    case 2:\n",
       "        cursor = 'crosshair';\n",
       "        break;\n",
       "    case 3:\n",
       "        cursor = 'move';\n",
       "        break;\n",
       "    }\n",
       "    fig.rubberband_canvas.style.cursor = cursor;\n",
       "}\n",
       "\n",
       "mpl.figure.prototype.handle_message = function(fig, msg) {\n",
       "    fig.message.textContent = msg['message'];\n",
       "}\n",
       "\n",
       "mpl.figure.prototype.handle_draw = function(fig, msg) {\n",
       "    // Request the server to send over a new figure.\n",
       "    fig.send_draw_message();\n",
       "}\n",
       "\n",
       "mpl.figure.prototype.handle_image_mode = function(fig, msg) {\n",
       "    fig.image_mode = msg['mode'];\n",
       "}\n",
       "\n",
       "mpl.figure.prototype.updated_canvas_event = function() {\n",
       "    // Called whenever the canvas gets updated.\n",
       "    this.send_message(\"ack\", {});\n",
       "}\n",
       "\n",
       "// A function to construct a web socket function for onmessage handling.\n",
       "// Called in the figure constructor.\n",
       "mpl.figure.prototype._make_on_message_function = function(fig) {\n",
       "    return function socket_on_message(evt) {\n",
       "        if (evt.data instanceof Blob) {\n",
       "            /* FIXME: We get \"Resource interpreted as Image but\n",
       "             * transferred with MIME type text/plain:\" errors on\n",
       "             * Chrome.  But how to set the MIME type?  It doesn't seem\n",
       "             * to be part of the websocket stream */\n",
       "            evt.data.type = \"image/png\";\n",
       "\n",
       "            /* Free the memory for the previous frames */\n",
       "            if (fig.imageObj.src) {\n",
       "                (window.URL || window.webkitURL).revokeObjectURL(\n",
       "                    fig.imageObj.src);\n",
       "            }\n",
       "\n",
       "            fig.imageObj.src = (window.URL || window.webkitURL).createObjectURL(\n",
       "                evt.data);\n",
       "            fig.updated_canvas_event();\n",
       "            fig.waiting = false;\n",
       "            return;\n",
       "        }\n",
       "        else if (typeof evt.data === 'string' && evt.data.slice(0, 21) == \"data:image/png;base64\") {\n",
       "            fig.imageObj.src = evt.data;\n",
       "            fig.updated_canvas_event();\n",
       "            fig.waiting = false;\n",
       "            return;\n",
       "        }\n",
       "\n",
       "        var msg = JSON.parse(evt.data);\n",
       "        var msg_type = msg['type'];\n",
       "\n",
       "        // Call the  \"handle_{type}\" callback, which takes\n",
       "        // the figure and JSON message as its only arguments.\n",
       "        try {\n",
       "            var callback = fig[\"handle_\" + msg_type];\n",
       "        } catch (e) {\n",
       "            console.log(\"No handler for the '\" + msg_type + \"' message type: \", msg);\n",
       "            return;\n",
       "        }\n",
       "\n",
       "        if (callback) {\n",
       "            try {\n",
       "                // console.log(\"Handling '\" + msg_type + \"' message: \", msg);\n",
       "                callback(fig, msg);\n",
       "            } catch (e) {\n",
       "                console.log(\"Exception inside the 'handler_\" + msg_type + \"' callback:\", e, e.stack, msg);\n",
       "            }\n",
       "        }\n",
       "    };\n",
       "}\n",
       "\n",
       "// from http://stackoverflow.com/questions/1114465/getting-mouse-location-in-canvas\n",
       "mpl.findpos = function(e) {\n",
       "    //this section is from http://www.quirksmode.org/js/events_properties.html\n",
       "    var targ;\n",
       "    if (!e)\n",
       "        e = window.event;\n",
       "    if (e.target)\n",
       "        targ = e.target;\n",
       "    else if (e.srcElement)\n",
       "        targ = e.srcElement;\n",
       "    if (targ.nodeType == 3) // defeat Safari bug\n",
       "        targ = targ.parentNode;\n",
       "\n",
       "    // jQuery normalizes the pageX and pageY\n",
       "    // pageX,Y are the mouse positions relative to the document\n",
       "    // offset() returns the position of the element relative to the document\n",
       "    var x = e.pageX - $(targ).offset().left;\n",
       "    var y = e.pageY - $(targ).offset().top;\n",
       "\n",
       "    return {\"x\": x, \"y\": y};\n",
       "};\n",
       "\n",
       "/*\n",
       " * return a copy of an object with only non-object keys\n",
       " * we need this to avoid circular references\n",
       " * http://stackoverflow.com/a/24161582/3208463\n",
       " */\n",
       "function simpleKeys (original) {\n",
       "  return Object.keys(original).reduce(function (obj, key) {\n",
       "    if (typeof original[key] !== 'object')\n",
       "        obj[key] = original[key]\n",
       "    return obj;\n",
       "  }, {});\n",
       "}\n",
       "\n",
       "mpl.figure.prototype.mouse_event = function(event, name) {\n",
       "    var canvas_pos = mpl.findpos(event)\n",
       "\n",
       "    if (name === 'button_press')\n",
       "    {\n",
       "        this.canvas.focus();\n",
       "        this.canvas_div.focus();\n",
       "    }\n",
       "\n",
       "    var x = canvas_pos.x * mpl.ratio;\n",
       "    var y = canvas_pos.y * mpl.ratio;\n",
       "\n",
       "    this.send_message(name, {x: x, y: y, button: event.button,\n",
       "                             step: event.step,\n",
       "                             guiEvent: simpleKeys(event)});\n",
       "\n",
       "    /* This prevents the web browser from automatically changing to\n",
       "     * the text insertion cursor when the button is pressed.  We want\n",
       "     * to control all of the cursor setting manually through the\n",
       "     * 'cursor' event from matplotlib */\n",
       "    event.preventDefault();\n",
       "    return false;\n",
       "}\n",
       "\n",
       "mpl.figure.prototype._key_event_extra = function(event, name) {\n",
       "    // Handle any extra behaviour associated with a key event\n",
       "}\n",
       "\n",
       "mpl.figure.prototype.key_event = function(event, name) {\n",
       "\n",
       "    // Prevent repeat events\n",
       "    if (name == 'key_press')\n",
       "    {\n",
       "        if (event.which === this._key)\n",
       "            return;\n",
       "        else\n",
       "            this._key = event.which;\n",
       "    }\n",
       "    if (name == 'key_release')\n",
       "        this._key = null;\n",
       "\n",
       "    var value = '';\n",
       "    if (event.ctrlKey && event.which != 17)\n",
       "        value += \"ctrl+\";\n",
       "    if (event.altKey && event.which != 18)\n",
       "        value += \"alt+\";\n",
       "    if (event.shiftKey && event.which != 16)\n",
       "        value += \"shift+\";\n",
       "\n",
       "    value += 'k';\n",
       "    value += event.which.toString();\n",
       "\n",
       "    this._key_event_extra(event, name);\n",
       "\n",
       "    this.send_message(name, {key: value,\n",
       "                             guiEvent: simpleKeys(event)});\n",
       "    return false;\n",
       "}\n",
       "\n",
       "mpl.figure.prototype.toolbar_button_onclick = function(name) {\n",
       "    if (name == 'download') {\n",
       "        this.handle_save(this, null);\n",
       "    } else {\n",
       "        this.send_message(\"toolbar_button\", {name: name});\n",
       "    }\n",
       "};\n",
       "\n",
       "mpl.figure.prototype.toolbar_button_onmouseover = function(tooltip) {\n",
       "    this.message.textContent = tooltip;\n",
       "};\n",
       "mpl.toolbar_items = [[\"Home\", \"Reset original view\", \"fa fa-home icon-home\", \"home\"], [\"Back\", \"Back to previous view\", \"fa fa-arrow-left icon-arrow-left\", \"back\"], [\"Forward\", \"Forward to next view\", \"fa fa-arrow-right icon-arrow-right\", \"forward\"], [\"\", \"\", \"\", \"\"], [\"Pan\", \"Pan axes with left mouse, zoom with right\", \"fa fa-arrows icon-move\", \"pan\"], [\"Zoom\", \"Zoom to rectangle\", \"fa fa-square-o icon-check-empty\", \"zoom\"], [\"\", \"\", \"\", \"\"], [\"Download\", \"Download plot\", \"fa fa-floppy-o icon-save\", \"download\"]];\n",
       "\n",
       "mpl.extensions = [\"eps\", \"jpeg\", \"pdf\", \"png\", \"ps\", \"raw\", \"svg\", \"tif\"];\n",
       "\n",
       "mpl.default_extension = \"png\";var comm_websocket_adapter = function(comm) {\n",
       "    // Create a \"websocket\"-like object which calls the given IPython comm\n",
       "    // object with the appropriate methods. Currently this is a non binary\n",
       "    // socket, so there is still some room for performance tuning.\n",
       "    var ws = {};\n",
       "\n",
       "    ws.close = function() {\n",
       "        comm.close()\n",
       "    };\n",
       "    ws.send = function(m) {\n",
       "        //console.log('sending', m);\n",
       "        comm.send(m);\n",
       "    };\n",
       "    // Register the callback with on_msg.\n",
       "    comm.on_msg(function(msg) {\n",
       "        //console.log('receiving', msg['content']['data'], msg);\n",
       "        // Pass the mpl event to the overridden (by mpl) onmessage function.\n",
       "        ws.onmessage(msg['content']['data'])\n",
       "    });\n",
       "    return ws;\n",
       "}\n",
       "\n",
       "mpl.mpl_figure_comm = function(comm, msg) {\n",
       "    // This is the function which gets called when the mpl process\n",
       "    // starts-up an IPython Comm through the \"matplotlib\" channel.\n",
       "\n",
       "    var id = msg.content.data.id;\n",
       "    // Get hold of the div created by the display call when the Comm\n",
       "    // socket was opened in Python.\n",
       "    var element = $(\"#\" + id);\n",
       "    var ws_proxy = comm_websocket_adapter(comm)\n",
       "\n",
       "    function ondownload(figure, format) {\n",
       "        window.open(figure.imageObj.src);\n",
       "    }\n",
       "\n",
       "    var fig = new mpl.figure(id, ws_proxy,\n",
       "                           ondownload,\n",
       "                           element.get(0));\n",
       "\n",
       "    // Call onopen now - mpl needs it, as it is assuming we've passed it a real\n",
       "    // web socket which is closed, not our websocket->open comm proxy.\n",
       "    ws_proxy.onopen();\n",
       "\n",
       "    fig.parent_element = element.get(0);\n",
       "    fig.cell_info = mpl.find_output_cell(\"<div id='\" + id + \"'></div>\");\n",
       "    if (!fig.cell_info) {\n",
       "        console.error(\"Failed to find cell for figure\", id, fig);\n",
       "        return;\n",
       "    }\n",
       "\n",
       "    var output_index = fig.cell_info[2]\n",
       "    var cell = fig.cell_info[0];\n",
       "\n",
       "};\n",
       "\n",
       "mpl.figure.prototype.handle_close = function(fig, msg) {\n",
       "    var width = fig.canvas.width/mpl.ratio\n",
       "    fig.root.unbind('remove')\n",
       "\n",
       "    // Update the output cell to use the data from the current canvas.\n",
       "    fig.push_to_output();\n",
       "    var dataURL = fig.canvas.toDataURL();\n",
       "    // Re-enable the keyboard manager in IPython - without this line, in FF,\n",
       "    // the notebook keyboard shortcuts fail.\n",
       "    IPython.keyboard_manager.enable()\n",
       "    $(fig.parent_element).html('<img src=\"' + dataURL + '\" width=\"' + width + '\">');\n",
       "    fig.close_ws(fig, msg);\n",
       "}\n",
       "\n",
       "mpl.figure.prototype.close_ws = function(fig, msg){\n",
       "    fig.send_message('closing', msg);\n",
       "    // fig.ws.close()\n",
       "}\n",
       "\n",
       "mpl.figure.prototype.push_to_output = function(remove_interactive) {\n",
       "    // Turn the data on the canvas into data in the output cell.\n",
       "    var width = this.canvas.width/mpl.ratio\n",
       "    var dataURL = this.canvas.toDataURL();\n",
       "    this.cell_info[1]['text/html'] = '<img src=\"' + dataURL + '\" width=\"' + width + '\">';\n",
       "}\n",
       "\n",
       "mpl.figure.prototype.updated_canvas_event = function() {\n",
       "    // Tell IPython that the notebook contents must change.\n",
       "    IPython.notebook.set_dirty(true);\n",
       "    this.send_message(\"ack\", {});\n",
       "    var fig = this;\n",
       "    // Wait a second, then push the new image to the DOM so\n",
       "    // that it is saved nicely (might be nice to debounce this).\n",
       "    setTimeout(function () { fig.push_to_output() }, 1000);\n",
       "}\n",
       "\n",
       "mpl.figure.prototype._init_toolbar = function() {\n",
       "    var fig = this;\n",
       "\n",
       "    var nav_element = $('<div/>')\n",
       "    nav_element.attr('style', 'width: 100%');\n",
       "    this.root.append(nav_element);\n",
       "\n",
       "    // Define a callback function for later on.\n",
       "    function toolbar_event(event) {\n",
       "        return fig.toolbar_button_onclick(event['data']);\n",
       "    }\n",
       "    function toolbar_mouse_event(event) {\n",
       "        return fig.toolbar_button_onmouseover(event['data']);\n",
       "    }\n",
       "\n",
       "    for(var toolbar_ind in mpl.toolbar_items){\n",
       "        var name = mpl.toolbar_items[toolbar_ind][0];\n",
       "        var tooltip = mpl.toolbar_items[toolbar_ind][1];\n",
       "        var image = mpl.toolbar_items[toolbar_ind][2];\n",
       "        var method_name = mpl.toolbar_items[toolbar_ind][3];\n",
       "\n",
       "        if (!name) { continue; };\n",
       "\n",
       "        var button = $('<button class=\"btn btn-default\" href=\"#\" title=\"' + name + '\"><i class=\"fa ' + image + ' fa-lg\"></i></button>');\n",
       "        button.click(method_name, toolbar_event);\n",
       "        button.mouseover(tooltip, toolbar_mouse_event);\n",
       "        nav_element.append(button);\n",
       "    }\n",
       "\n",
       "    // Add the status bar.\n",
       "    var status_bar = $('<span class=\"mpl-message\" style=\"text-align:right; float: right;\"/>');\n",
       "    nav_element.append(status_bar);\n",
       "    this.message = status_bar[0];\n",
       "\n",
       "    // Add the close button to the window.\n",
       "    var buttongrp = $('<div class=\"btn-group inline pull-right\"></div>');\n",
       "    var button = $('<button class=\"btn btn-mini btn-primary\" href=\"#\" title=\"Stop Interaction\"><i class=\"fa fa-power-off icon-remove icon-large\"></i></button>');\n",
       "    button.click(function (evt) { fig.handle_close(fig, {}); } );\n",
       "    button.mouseover('Stop Interaction', toolbar_mouse_event);\n",
       "    buttongrp.append(button);\n",
       "    var titlebar = this.root.find($('.ui-dialog-titlebar'));\n",
       "    titlebar.prepend(buttongrp);\n",
       "}\n",
       "\n",
       "mpl.figure.prototype._root_extra_style = function(el){\n",
       "    var fig = this\n",
       "    el.on(\"remove\", function(){\n",
       "\tfig.close_ws(fig, {});\n",
       "    });\n",
       "}\n",
       "\n",
       "mpl.figure.prototype._canvas_extra_style = function(el){\n",
       "    // this is important to make the div 'focusable\n",
       "    el.attr('tabindex', 0)\n",
       "    // reach out to IPython and tell the keyboard manager to turn it's self\n",
       "    // off when our div gets focus\n",
       "\n",
       "    // location in version 3\n",
       "    if (IPython.notebook.keyboard_manager) {\n",
       "        IPython.notebook.keyboard_manager.register_events(el);\n",
       "    }\n",
       "    else {\n",
       "        // location in version 2\n",
       "        IPython.keyboard_manager.register_events(el);\n",
       "    }\n",
       "\n",
       "}\n",
       "\n",
       "mpl.figure.prototype._key_event_extra = function(event, name) {\n",
       "    var manager = IPython.notebook.keyboard_manager;\n",
       "    if (!manager)\n",
       "        manager = IPython.keyboard_manager;\n",
       "\n",
       "    // Check for shift+enter\n",
       "    if (event.shiftKey && event.which == 13) {\n",
       "        this.canvas_div.blur();\n",
       "        event.shiftKey = false;\n",
       "        // Send a \"J\" for go to next cell\n",
       "        event.which = 74;\n",
       "        event.keyCode = 74;\n",
       "        manager.command_mode();\n",
       "        manager.handle_keydown(event);\n",
       "    }\n",
       "}\n",
       "\n",
       "mpl.figure.prototype.handle_save = function(fig, msg) {\n",
       "    fig.ondownload(fig, null);\n",
       "}\n",
       "\n",
       "\n",
       "mpl.find_output_cell = function(html_output) {\n",
       "    // Return the cell and output element which can be found *uniquely* in the notebook.\n",
       "    // Note - this is a bit hacky, but it is done because the \"notebook_saving.Notebook\"\n",
       "    // IPython event is triggered only after the cells have been serialised, which for\n",
       "    // our purposes (turning an active figure into a static one), is too late.\n",
       "    var cells = IPython.notebook.get_cells();\n",
       "    var ncells = cells.length;\n",
       "    for (var i=0; i<ncells; i++) {\n",
       "        var cell = cells[i];\n",
       "        if (cell.cell_type === 'code'){\n",
       "            for (var j=0; j<cell.output_area.outputs.length; j++) {\n",
       "                var data = cell.output_area.outputs[j];\n",
       "                if (data.data) {\n",
       "                    // IPython >= 3 moved mimebundle to data attribute of output\n",
       "                    data = data.data;\n",
       "                }\n",
       "                if (data['text/html'] == html_output) {\n",
       "                    return [cell, data, j];\n",
       "                }\n",
       "            }\n",
       "        }\n",
       "    }\n",
       "}\n",
       "\n",
       "// Register the function which deals with the matplotlib target/channel.\n",
       "// The kernel may be null if the page has been refreshed.\n",
       "if (IPython.notebook.kernel != null) {\n",
       "    IPython.notebook.kernel.comm_manager.register_target('matplotlib', mpl.mpl_figure_comm);\n",
       "}\n"
      ],
      "text/plain": [
       "<IPython.core.display.Javascript object>"
      ]
     },
     "metadata": {},
     "output_type": "display_data"
    },
    {
     "data": {
      "text/html": [
       "<img src=\"data:image/png;base64,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\" width=\"640\">"
      ],
      "text/plain": [
       "<IPython.core.display.HTML object>"
      ]
     },
     "metadata": {},
     "output_type": "display_data"
    },
    {
     "name": "stdout",
     "output_type": "stream",
     "text": [
      "CUDA is available!\n"
     ]
    },
    {
     "data": {
      "application/vnd.jupyter.widget-view+json": {
       "model_id": "f10c29889b3a427d833bc098265424ae",
       "version_major": 2,
       "version_minor": 0
      },
      "text/plain": [
       "HBox(children=(IntProgress(value=0, description='Epoch', max=40, style=ProgressStyle(description_width='initia…"
      ]
     },
     "metadata": {},
     "output_type": "display_data"
    },
    {
     "data": {
      "application/vnd.jupyter.widget-view+json": {
       "model_id": "",
       "version_major": 2,
       "version_minor": 0
      },
      "text/plain": [
       "HBox(children=(IntProgress(value=0, description='Training', max=512, style=ProgressStyle(description_width='in…"
      ]
     },
     "metadata": {},
     "output_type": "display_data"
    },
    {
     "data": {
      "application/vnd.jupyter.widget-view+json": {
       "model_id": "",
       "version_major": 2,
       "version_minor": 0
      },
      "text/plain": [
       "HBox(children=(IntProgress(value=0, description='Validation', max=205, style=ProgressStyle(description_width='…"
      ]
     },
     "metadata": {},
     "output_type": "display_data"
    },
    {
     "data": {
      "application/vnd.jupyter.widget-view+json": {
       "model_id": "",
       "version_major": 2,
       "version_minor": 0
      },
      "text/plain": [
       "HBox(children=(IntProgress(value=0, description='Training', max=512, style=ProgressStyle(description_width='in…"
      ]
     },
     "metadata": {},
     "output_type": "display_data"
    },
    {
     "data": {
      "application/vnd.jupyter.widget-view+json": {
       "model_id": "",
       "version_major": 2,
       "version_minor": 0
      },
      "text/plain": [
       "HBox(children=(IntProgress(value=0, description='Validation', max=205, style=ProgressStyle(description_width='…"
      ]
     },
     "metadata": {},
     "output_type": "display_data"
    },
    {
     "data": {
      "application/vnd.jupyter.widget-view+json": {
       "model_id": "",
       "version_major": 2,
       "version_minor": 0
      },
      "text/plain": [
       "HBox(children=(IntProgress(value=0, description='Training', max=512, style=ProgressStyle(description_width='in…"
      ]
     },
     "metadata": {},
     "output_type": "display_data"
    },
    {
     "data": {
      "application/vnd.jupyter.widget-view+json": {
       "model_id": "",
       "version_major": 2,
       "version_minor": 0
      },
      "text/plain": [
       "HBox(children=(IntProgress(value=0, description='Validation', max=205, style=ProgressStyle(description_width='…"
      ]
     },
     "metadata": {},
     "output_type": "display_data"
    },
    {
     "data": {
      "application/vnd.jupyter.widget-view+json": {
       "model_id": "",
       "version_major": 2,
       "version_minor": 0
      },
      "text/plain": [
       "HBox(children=(IntProgress(value=0, description='Training', max=512, style=ProgressStyle(description_width='in…"
      ]
     },
     "metadata": {},
     "output_type": "display_data"
    },
    {
     "data": {
      "application/vnd.jupyter.widget-view+json": {
       "model_id": "",
       "version_major": 2,
       "version_minor": 0
      },
      "text/plain": [
       "HBox(children=(IntProgress(value=0, description='Validation', max=205, style=ProgressStyle(description_width='…"
      ]
     },
     "metadata": {},
     "output_type": "display_data"
    },
    {
     "data": {
      "application/vnd.jupyter.widget-view+json": {
       "model_id": "",
       "version_major": 2,
       "version_minor": 0
      },
      "text/plain": [
       "HBox(children=(IntProgress(value=0, description='Training', max=512, style=ProgressStyle(description_width='in…"
      ]
     },
     "metadata": {},
     "output_type": "display_data"
    },
    {
     "data": {
      "application/vnd.jupyter.widget-view+json": {
       "model_id": "",
       "version_major": 2,
       "version_minor": 0
      },
      "text/plain": [
       "HBox(children=(IntProgress(value=0, description='Validation', max=205, style=ProgressStyle(description_width='…"
      ]
     },
     "metadata": {},
     "output_type": "display_data"
    },
    {
     "data": {
      "application/vnd.jupyter.widget-view+json": {
       "model_id": "",
       "version_major": 2,
       "version_minor": 0
      },
      "text/plain": [
       "HBox(children=(IntProgress(value=0, description='Training', max=512, style=ProgressStyle(description_width='in…"
      ]
     },
     "metadata": {},
     "output_type": "display_data"
    },
    {
     "data": {
      "application/vnd.jupyter.widget-view+json": {
       "model_id": "",
       "version_major": 2,
       "version_minor": 0
      },
      "text/plain": [
       "HBox(children=(IntProgress(value=0, description='Validation', max=205, style=ProgressStyle(description_width='…"
      ]
     },
     "metadata": {},
     "output_type": "display_data"
    },
    {
     "data": {
      "application/vnd.jupyter.widget-view+json": {
       "model_id": "",
       "version_major": 2,
       "version_minor": 0
      },
      "text/plain": [
       "HBox(children=(IntProgress(value=0, description='Training', max=512, style=ProgressStyle(description_width='in…"
      ]
     },
     "metadata": {},
     "output_type": "display_data"
    },
    {
     "data": {
      "application/vnd.jupyter.widget-view+json": {
       "model_id": "",
       "version_major": 2,
       "version_minor": 0
      },
      "text/plain": [
       "HBox(children=(IntProgress(value=0, description='Validation', max=205, style=ProgressStyle(description_width='…"
      ]
     },
     "metadata": {},
     "output_type": "display_data"
    },
    {
     "data": {
      "application/vnd.jupyter.widget-view+json": {
       "model_id": "",
       "version_major": 2,
       "version_minor": 0
      },
      "text/plain": [
       "HBox(children=(IntProgress(value=0, description='Training', max=512, style=ProgressStyle(description_width='in…"
      ]
     },
     "metadata": {},
     "output_type": "display_data"
    },
    {
     "data": {
      "application/vnd.jupyter.widget-view+json": {
       "model_id": "",
       "version_major": 2,
       "version_minor": 0
      },
      "text/plain": [
       "HBox(children=(IntProgress(value=0, description='Validation', max=205, style=ProgressStyle(description_width='…"
      ]
     },
     "metadata": {},
     "output_type": "display_data"
    },
    {
     "data": {
      "application/vnd.jupyter.widget-view+json": {
       "model_id": "",
       "version_major": 2,
       "version_minor": 0
      },
      "text/plain": [
       "HBox(children=(IntProgress(value=0, description='Training', max=512, style=ProgressStyle(description_width='in…"
      ]
     },
     "metadata": {},
     "output_type": "display_data"
    },
    {
     "data": {
      "application/vnd.jupyter.widget-view+json": {
       "model_id": "",
       "version_major": 2,
       "version_minor": 0
      },
      "text/plain": [
       "HBox(children=(IntProgress(value=0, description='Validation', max=205, style=ProgressStyle(description_width='…"
      ]
     },
     "metadata": {},
     "output_type": "display_data"
    },
    {
     "data": {
      "application/vnd.jupyter.widget-view+json": {
       "model_id": "",
       "version_major": 2,
       "version_minor": 0
      },
      "text/plain": [
       "HBox(children=(IntProgress(value=0, description='Training', max=512, style=ProgressStyle(description_width='in…"
      ]
     },
     "metadata": {},
     "output_type": "display_data"
    },
    {
     "data": {
      "application/vnd.jupyter.widget-view+json": {
       "model_id": "",
       "version_major": 2,
       "version_minor": 0
      },
      "text/plain": [
       "HBox(children=(IntProgress(value=0, description='Validation', max=205, style=ProgressStyle(description_width='…"
      ]
     },
     "metadata": {},
     "output_type": "display_data"
    },
    {
     "data": {
      "application/vnd.jupyter.widget-view+json": {
       "model_id": "",
       "version_major": 2,
       "version_minor": 0
      },
      "text/plain": [
       "HBox(children=(IntProgress(value=0, description='Training', max=512, style=ProgressStyle(description_width='in…"
      ]
     },
     "metadata": {},
     "output_type": "display_data"
    },
    {
     "data": {
      "application/vnd.jupyter.widget-view+json": {
       "model_id": "",
       "version_major": 2,
       "version_minor": 0
      },
      "text/plain": [
       "HBox(children=(IntProgress(value=0, description='Validation', max=205, style=ProgressStyle(description_width='…"
      ]
     },
     "metadata": {},
     "output_type": "display_data"
    },
    {
     "data": {
      "application/vnd.jupyter.widget-view+json": {
       "model_id": "",
       "version_major": 2,
       "version_minor": 0
      },
      "text/plain": [
       "HBox(children=(IntProgress(value=0, description='Training', max=512, style=ProgressStyle(description_width='in…"
      ]
     },
     "metadata": {},
     "output_type": "display_data"
    },
    {
     "data": {
      "application/vnd.jupyter.widget-view+json": {
       "model_id": "",
       "version_major": 2,
       "version_minor": 0
      },
      "text/plain": [
       "HBox(children=(IntProgress(value=0, description='Validation', max=205, style=ProgressStyle(description_width='…"
      ]
     },
     "metadata": {},
     "output_type": "display_data"
    },
    {
     "data": {
      "application/vnd.jupyter.widget-view+json": {
       "model_id": "",
       "version_major": 2,
       "version_minor": 0
      },
      "text/plain": [
       "HBox(children=(IntProgress(value=0, description='Training', max=512, style=ProgressStyle(description_width='in…"
      ]
     },
     "metadata": {},
     "output_type": "display_data"
    },
    {
     "data": {
      "application/vnd.jupyter.widget-view+json": {
       "model_id": "",
       "version_major": 2,
       "version_minor": 0
      },
      "text/plain": [
       "HBox(children=(IntProgress(value=0, description='Validation', max=205, style=ProgressStyle(description_width='…"
      ]
     },
     "metadata": {},
     "output_type": "display_data"
    },
    {
     "data": {
      "application/vnd.jupyter.widget-view+json": {
       "model_id": "",
       "version_major": 2,
       "version_minor": 0
      },
      "text/plain": [
       "HBox(children=(IntProgress(value=0, description='Training', max=512, style=ProgressStyle(description_width='in…"
      ]
     },
     "metadata": {},
     "output_type": "display_data"
    },
    {
     "data": {
      "application/vnd.jupyter.widget-view+json": {
       "model_id": "",
       "version_major": 2,
       "version_minor": 0
      },
      "text/plain": [
       "HBox(children=(IntProgress(value=0, description='Validation', max=205, style=ProgressStyle(description_width='…"
      ]
     },
     "metadata": {},
     "output_type": "display_data"
    },
    {
     "data": {
      "application/vnd.jupyter.widget-view+json": {
       "model_id": "",
       "version_major": 2,
       "version_minor": 0
      },
      "text/plain": [
       "HBox(children=(IntProgress(value=0, description='Training', max=512, style=ProgressStyle(description_width='in…"
      ]
     },
     "metadata": {},
     "output_type": "display_data"
    },
    {
     "data": {
      "application/vnd.jupyter.widget-view+json": {
       "model_id": "",
       "version_major": 2,
       "version_minor": 0
      },
      "text/plain": [
       "HBox(children=(IntProgress(value=0, description='Validation', max=205, style=ProgressStyle(description_width='…"
      ]
     },
     "metadata": {},
     "output_type": "display_data"
    },
    {
     "data": {
      "application/vnd.jupyter.widget-view+json": {
       "model_id": "",
       "version_major": 2,
       "version_minor": 0
      },
      "text/plain": [
       "HBox(children=(IntProgress(value=0, description='Training', max=512, style=ProgressStyle(description_width='in…"
      ]
     },
     "metadata": {},
     "output_type": "display_data"
    },
    {
     "data": {
      "application/vnd.jupyter.widget-view+json": {
       "model_id": "",
       "version_major": 2,
       "version_minor": 0
      },
      "text/plain": [
       "HBox(children=(IntProgress(value=0, description='Validation', max=205, style=ProgressStyle(description_width='…"
      ]
     },
     "metadata": {},
     "output_type": "display_data"
    },
    {
     "data": {
      "application/vnd.jupyter.widget-view+json": {
       "model_id": "",
       "version_major": 2,
       "version_minor": 0
      },
      "text/plain": [
       "HBox(children=(IntProgress(value=0, description='Training', max=512, style=ProgressStyle(description_width='in…"
      ]
     },
     "metadata": {},
     "output_type": "display_data"
    },
    {
     "data": {
      "application/vnd.jupyter.widget-view+json": {
       "model_id": "",
       "version_major": 2,
       "version_minor": 0
      },
      "text/plain": [
       "HBox(children=(IntProgress(value=0, description='Validation', max=205, style=ProgressStyle(description_width='…"
      ]
     },
     "metadata": {},
     "output_type": "display_data"
    },
    {
     "data": {
      "application/vnd.jupyter.widget-view+json": {
       "model_id": "",
       "version_major": 2,
       "version_minor": 0
      },
      "text/plain": [
       "HBox(children=(IntProgress(value=0, description='Training', max=512, style=ProgressStyle(description_width='in…"
      ]
     },
     "metadata": {},
     "output_type": "display_data"
    },
    {
     "data": {
      "application/vnd.jupyter.widget-view+json": {
       "model_id": "",
       "version_major": 2,
       "version_minor": 0
      },
      "text/plain": [
       "HBox(children=(IntProgress(value=0, description='Validation', max=205, style=ProgressStyle(description_width='…"
      ]
     },
     "metadata": {},
     "output_type": "display_data"
    },
    {
     "data": {
      "application/vnd.jupyter.widget-view+json": {
       "model_id": "",
       "version_major": 2,
       "version_minor": 0
      },
      "text/plain": [
       "HBox(children=(IntProgress(value=0, description='Training', max=512, style=ProgressStyle(description_width='in…"
      ]
     },
     "metadata": {},
     "output_type": "display_data"
    },
    {
     "data": {
      "application/vnd.jupyter.widget-view+json": {
       "model_id": "",
       "version_major": 2,
       "version_minor": 0
      },
      "text/plain": [
       "HBox(children=(IntProgress(value=0, description='Validation', max=205, style=ProgressStyle(description_width='…"
      ]
     },
     "metadata": {},
     "output_type": "display_data"
    },
    {
     "data": {
      "application/vnd.jupyter.widget-view+json": {
       "model_id": "",
       "version_major": 2,
       "version_minor": 0
      },
      "text/plain": [
       "HBox(children=(IntProgress(value=0, description='Training', max=512, style=ProgressStyle(description_width='in…"
      ]
     },
     "metadata": {},
     "output_type": "display_data"
    },
    {
     "data": {
      "application/vnd.jupyter.widget-view+json": {
       "model_id": "",
       "version_major": 2,
       "version_minor": 0
      },
      "text/plain": [
       "HBox(children=(IntProgress(value=0, description='Validation', max=205, style=ProgressStyle(description_width='…"
      ]
     },
     "metadata": {},
     "output_type": "display_data"
    },
    {
     "data": {
      "application/vnd.jupyter.widget-view+json": {
       "model_id": "",
       "version_major": 2,
       "version_minor": 0
      },
      "text/plain": [
       "HBox(children=(IntProgress(value=0, description='Training', max=512, style=ProgressStyle(description_width='in…"
      ]
     },
     "metadata": {},
     "output_type": "display_data"
    },
    {
     "data": {
      "application/vnd.jupyter.widget-view+json": {
       "model_id": "",
       "version_major": 2,
       "version_minor": 0
      },
      "text/plain": [
       "HBox(children=(IntProgress(value=0, description='Validation', max=205, style=ProgressStyle(description_width='…"
      ]
     },
     "metadata": {},
     "output_type": "display_data"
    },
    {
     "data": {
      "application/vnd.jupyter.widget-view+json": {
       "model_id": "",
       "version_major": 2,
       "version_minor": 0
      },
      "text/plain": [
       "HBox(children=(IntProgress(value=0, description='Training', max=512, style=ProgressStyle(description_width='in…"
      ]
     },
     "metadata": {},
     "output_type": "display_data"
    },
    {
     "data": {
      "application/vnd.jupyter.widget-view+json": {
       "model_id": "",
       "version_major": 2,
       "version_minor": 0
      },
      "text/plain": [
       "HBox(children=(IntProgress(value=0, description='Validation', max=205, style=ProgressStyle(description_width='…"
      ]
     },
     "metadata": {},
     "output_type": "display_data"
    },
    {
     "data": {
      "application/vnd.jupyter.widget-view+json": {
       "model_id": "",
       "version_major": 2,
       "version_minor": 0
      },
      "text/plain": [
       "HBox(children=(IntProgress(value=0, description='Training', max=512, style=ProgressStyle(description_width='in…"
      ]
     },
     "metadata": {},
     "output_type": "display_data"
    },
    {
     "data": {
      "application/vnd.jupyter.widget-view+json": {
       "model_id": "",
       "version_major": 2,
       "version_minor": 0
      },
      "text/plain": [
       "HBox(children=(IntProgress(value=0, description='Validation', max=205, style=ProgressStyle(description_width='…"
      ]
     },
     "metadata": {},
     "output_type": "display_data"
    },
    {
     "data": {
      "application/vnd.jupyter.widget-view+json": {
       "model_id": "",
       "version_major": 2,
       "version_minor": 0
      },
      "text/plain": [
       "HBox(children=(IntProgress(value=0, description='Training', max=512, style=ProgressStyle(description_width='in…"
      ]
     },
     "metadata": {},
     "output_type": "display_data"
    },
    {
     "data": {
      "application/vnd.jupyter.widget-view+json": {
       "model_id": "",
       "version_major": 2,
       "version_minor": 0
      },
      "text/plain": [
       "HBox(children=(IntProgress(value=0, description='Validation', max=205, style=ProgressStyle(description_width='…"
      ]
     },
     "metadata": {},
     "output_type": "display_data"
    },
    {
     "data": {
      "application/vnd.jupyter.widget-view+json": {
       "model_id": "",
       "version_major": 2,
       "version_minor": 0
      },
      "text/plain": [
       "HBox(children=(IntProgress(value=0, description='Training', max=512, style=ProgressStyle(description_width='in…"
      ]
     },
     "metadata": {},
     "output_type": "display_data"
    },
    {
     "data": {
      "application/vnd.jupyter.widget-view+json": {
       "model_id": "",
       "version_major": 2,
       "version_minor": 0
      },
      "text/plain": [
       "HBox(children=(IntProgress(value=0, description='Validation', max=205, style=ProgressStyle(description_width='…"
      ]
     },
     "metadata": {},
     "output_type": "display_data"
    },
    {
     "data": {
      "application/vnd.jupyter.widget-view+json": {
       "model_id": "",
       "version_major": 2,
       "version_minor": 0
      },
      "text/plain": [
       "HBox(children=(IntProgress(value=0, description='Training', max=512, style=ProgressStyle(description_width='in…"
      ]
     },
     "metadata": {},
     "output_type": "display_data"
    },
    {
     "data": {
      "application/vnd.jupyter.widget-view+json": {
       "model_id": "",
       "version_major": 2,
       "version_minor": 0
      },
      "text/plain": [
       "HBox(children=(IntProgress(value=0, description='Validation', max=205, style=ProgressStyle(description_width='…"
      ]
     },
     "metadata": {},
     "output_type": "display_data"
    },
    {
     "data": {
      "application/vnd.jupyter.widget-view+json": {
       "model_id": "",
       "version_major": 2,
       "version_minor": 0
      },
      "text/plain": [
       "HBox(children=(IntProgress(value=0, description='Training', max=512, style=ProgressStyle(description_width='in…"
      ]
     },
     "metadata": {},
     "output_type": "display_data"
    },
    {
     "data": {
      "application/vnd.jupyter.widget-view+json": {
       "model_id": "",
       "version_major": 2,
       "version_minor": 0
      },
      "text/plain": [
       "HBox(children=(IntProgress(value=0, description='Validation', max=205, style=ProgressStyle(description_width='…"
      ]
     },
     "metadata": {},
     "output_type": "display_data"
    },
    {
     "data": {
      "application/vnd.jupyter.widget-view+json": {
       "model_id": "",
       "version_major": 2,
       "version_minor": 0
      },
      "text/plain": [
       "HBox(children=(IntProgress(value=0, description='Training', max=512, style=ProgressStyle(description_width='in…"
      ]
     },
     "metadata": {},
     "output_type": "display_data"
    },
    {
     "data": {
      "application/vnd.jupyter.widget-view+json": {
       "model_id": "",
       "version_major": 2,
       "version_minor": 0
      },
      "text/plain": [
       "HBox(children=(IntProgress(value=0, description='Validation', max=205, style=ProgressStyle(description_width='…"
      ]
     },
     "metadata": {},
     "output_type": "display_data"
    },
    {
     "data": {
      "application/vnd.jupyter.widget-view+json": {
       "model_id": "",
       "version_major": 2,
       "version_minor": 0
      },
      "text/plain": [
       "HBox(children=(IntProgress(value=0, description='Training', max=512, style=ProgressStyle(description_width='in…"
      ]
     },
     "metadata": {},
     "output_type": "display_data"
    },
    {
     "data": {
      "application/vnd.jupyter.widget-view+json": {
       "model_id": "",
       "version_major": 2,
       "version_minor": 0
      },
      "text/plain": [
       "HBox(children=(IntProgress(value=0, description='Validation', max=205, style=ProgressStyle(description_width='…"
      ]
     },
     "metadata": {},
     "output_type": "display_data"
    },
    {
     "data": {
      "application/vnd.jupyter.widget-view+json": {
       "model_id": "",
       "version_major": 2,
       "version_minor": 0
      },
      "text/plain": [
       "HBox(children=(IntProgress(value=0, description='Training', max=512, style=ProgressStyle(description_width='in…"
      ]
     },
     "metadata": {},
     "output_type": "display_data"
    },
    {
     "data": {
      "application/vnd.jupyter.widget-view+json": {
       "model_id": "",
       "version_major": 2,
       "version_minor": 0
      },
      "text/plain": [
       "HBox(children=(IntProgress(value=0, description='Validation', max=205, style=ProgressStyle(description_width='…"
      ]
     },
     "metadata": {},
     "output_type": "display_data"
    },
    {
     "data": {
      "application/vnd.jupyter.widget-view+json": {
       "model_id": "",
       "version_major": 2,
       "version_minor": 0
      },
      "text/plain": [
       "HBox(children=(IntProgress(value=0, description='Training', max=512, style=ProgressStyle(description_width='in…"
      ]
     },
     "metadata": {},
     "output_type": "display_data"
    },
    {
     "data": {
      "application/vnd.jupyter.widget-view+json": {
       "model_id": "",
       "version_major": 2,
       "version_minor": 0
      },
      "text/plain": [
       "HBox(children=(IntProgress(value=0, description='Validation', max=205, style=ProgressStyle(description_width='…"
      ]
     },
     "metadata": {},
     "output_type": "display_data"
    },
    {
     "data": {
      "application/vnd.jupyter.widget-view+json": {
       "model_id": "",
       "version_major": 2,
       "version_minor": 0
      },
      "text/plain": [
       "HBox(children=(IntProgress(value=0, description='Training', max=512, style=ProgressStyle(description_width='in…"
      ]
     },
     "metadata": {},
     "output_type": "display_data"
    },
    {
     "data": {
      "application/vnd.jupyter.widget-view+json": {
       "model_id": "",
       "version_major": 2,
       "version_minor": 0
      },
      "text/plain": [
       "HBox(children=(IntProgress(value=0, description='Validation', max=205, style=ProgressStyle(description_width='…"
      ]
     },
     "metadata": {},
     "output_type": "display_data"
    },
    {
     "data": {
      "application/vnd.jupyter.widget-view+json": {
       "model_id": "",
       "version_major": 2,
       "version_minor": 0
      },
      "text/plain": [
       "HBox(children=(IntProgress(value=0, description='Training', max=512, style=ProgressStyle(description_width='in…"
      ]
     },
     "metadata": {},
     "output_type": "display_data"
    },
    {
     "data": {
      "application/vnd.jupyter.widget-view+json": {
       "model_id": "",
       "version_major": 2,
       "version_minor": 0
      },
      "text/plain": [
       "HBox(children=(IntProgress(value=0, description='Validation', max=205, style=ProgressStyle(description_width='…"
      ]
     },
     "metadata": {},
     "output_type": "display_data"
    },
    {
     "data": {
      "application/vnd.jupyter.widget-view+json": {
       "model_id": "",
       "version_major": 2,
       "version_minor": 0
      },
      "text/plain": [
       "HBox(children=(IntProgress(value=0, description='Training', max=512, style=ProgressStyle(description_width='in…"
      ]
     },
     "metadata": {},
     "output_type": "display_data"
    },
    {
     "data": {
      "application/vnd.jupyter.widget-view+json": {
       "model_id": "",
       "version_major": 2,
       "version_minor": 0
      },
      "text/plain": [
       "HBox(children=(IntProgress(value=0, description='Validation', max=205, style=ProgressStyle(description_width='…"
      ]
     },
     "metadata": {},
     "output_type": "display_data"
    },
    {
     "data": {
      "application/vnd.jupyter.widget-view+json": {
       "model_id": "",
       "version_major": 2,
       "version_minor": 0
      },
      "text/plain": [
       "HBox(children=(IntProgress(value=0, description='Training', max=512, style=ProgressStyle(description_width='in…"
      ]
     },
     "metadata": {},
     "output_type": "display_data"
    },
    {
     "data": {
      "application/vnd.jupyter.widget-view+json": {
       "model_id": "",
       "version_major": 2,
       "version_minor": 0
      },
      "text/plain": [
       "HBox(children=(IntProgress(value=0, description='Validation', max=205, style=ProgressStyle(description_width='…"
      ]
     },
     "metadata": {},
     "output_type": "display_data"
    },
    {
     "data": {
      "application/vnd.jupyter.widget-view+json": {
       "model_id": "",
       "version_major": 2,
       "version_minor": 0
      },
      "text/plain": [
       "HBox(children=(IntProgress(value=0, description='Training', max=512, style=ProgressStyle(description_width='in…"
      ]
     },
     "metadata": {},
     "output_type": "display_data"
    },
    {
     "data": {
      "application/vnd.jupyter.widget-view+json": {
       "model_id": "",
       "version_major": 2,
       "version_minor": 0
      },
      "text/plain": [
       "HBox(children=(IntProgress(value=0, description='Validation', max=205, style=ProgressStyle(description_width='…"
      ]
     },
     "metadata": {},
     "output_type": "display_data"
    },
    {
     "data": {
      "application/vnd.jupyter.widget-view+json": {
       "model_id": "",
       "version_major": 2,
       "version_minor": 0
      },
      "text/plain": [
       "HBox(children=(IntProgress(value=0, description='Training', max=512, style=ProgressStyle(description_width='in…"
      ]
     },
     "metadata": {},
     "output_type": "display_data"
    },
    {
     "data": {
      "application/vnd.jupyter.widget-view+json": {
       "model_id": "",
       "version_major": 2,
       "version_minor": 0
      },
      "text/plain": [
       "HBox(children=(IntProgress(value=0, description='Validation', max=205, style=ProgressStyle(description_width='…"
      ]
     },
     "metadata": {},
     "output_type": "display_data"
    },
    {
     "data": {
      "application/vnd.jupyter.widget-view+json": {
       "model_id": "",
       "version_major": 2,
       "version_minor": 0
      },
      "text/plain": [
       "HBox(children=(IntProgress(value=0, description='Training', max=512, style=ProgressStyle(description_width='in…"
      ]
     },
     "metadata": {},
     "output_type": "display_data"
    },
    {
     "data": {
      "application/vnd.jupyter.widget-view+json": {
       "model_id": "",
       "version_major": 2,
       "version_minor": 0
      },
      "text/plain": [
       "HBox(children=(IntProgress(value=0, description='Validation', max=205, style=ProgressStyle(description_width='…"
      ]
     },
     "metadata": {},
     "output_type": "display_data"
    },
    {
     "data": {
      "application/vnd.jupyter.widget-view+json": {
       "model_id": "",
       "version_major": 2,
       "version_minor": 0
      },
      "text/plain": [
       "HBox(children=(IntProgress(value=0, description='Training', max=512, style=ProgressStyle(description_width='in…"
      ]
     },
     "metadata": {},
     "output_type": "display_data"
    },
    {
     "data": {
      "application/vnd.jupyter.widget-view+json": {
       "model_id": "",
       "version_major": 2,
       "version_minor": 0
      },
      "text/plain": [
       "HBox(children=(IntProgress(value=0, description='Validation', max=205, style=ProgressStyle(description_width='…"
      ]
     },
     "metadata": {},
     "output_type": "display_data"
    },
    {
     "data": {
      "application/vnd.jupyter.widget-view+json": {
       "model_id": "",
       "version_major": 2,
       "version_minor": 0
      },
      "text/plain": [
       "HBox(children=(IntProgress(value=0, description='Training', max=512, style=ProgressStyle(description_width='in…"
      ]
     },
     "metadata": {},
     "output_type": "display_data"
    },
    {
     "data": {
      "application/vnd.jupyter.widget-view+json": {
       "model_id": "",
       "version_major": 2,
       "version_minor": 0
      },
      "text/plain": [
       "HBox(children=(IntProgress(value=0, description='Validation', max=205, style=ProgressStyle(description_width='…"
      ]
     },
     "metadata": {},
     "output_type": "display_data"
    }
   ],
   "source": [
    "import logging\n",
    "mpl_logger = logging.getLogger('matplotlib')\n",
    "mpl_logger.setLevel(logging.WARNING) \n",
    "plot_losses = trainIters(model,train_ds,valid_ds,batch_size,n_epochs,learning_rate,weight_decay)"
   ]
  },
  {
   "cell_type": "markdown",
   "metadata": {},
   "source": [
    "## Hands-on demonstration\n",
    "The following is a simple demonstration of the model.\n",
    "\n",
    "First, we load the model"
   ]
  },
  {
   "cell_type": "code",
   "execution_count": 14,
   "metadata": {},
   "outputs": [],
   "source": [
    "# torch.save(model,'./justicebot_model')\n",
    "loaded_model = torch.load('./justicebot_model').to(torch.device('cpu'))"
   ]
  },
  {
   "cell_type": "markdown",
   "metadata": {},
   "source": [
    "Then we select a small, random sample of sentences from the validation dataset"
   ]
  },
  {
   "cell_type": "code",
   "execution_count": 73,
   "metadata": {},
   "outputs": [],
   "source": [
    "sentences= [\n",
    "            \"il se plaint également des pertes électricité dans son logement en raison un problème de fusible et du froid qui entre dans son logement et qui passe sous la porte de son balcon\",\n",
    "            \"certains jugements exigent que avis soit assez précis quant à ces mentions\",\n",
    "            \"le logement t il été remis en état\",\n",
    "            \"l avis doit de plus indiquer la durée proposée du bail si le locateur propose de la modifier et le délai accordé au locataire pour refuser la modification proposée\",\n",
    "           ]"
   ]
  },
  {
   "cell_type": "markdown",
   "metadata": {},
   "source": [
    "Finally, we convert each sentence into a stream of indices and pass them through our model and output the result"
   ]
  },
  {
   "cell_type": "code",
   "execution_count": 74,
   "metadata": {},
   "outputs": [
    {
     "name": "stdout",
     "output_type": "stream",
     "text": [
      "0.8847429752349854\n",
      "0.11373676359653473\n",
      "0.5005398988723755\n",
      "0.31274744868278503\n"
     ]
    }
   ],
   "source": [
    "sentences= [train_ds.tensorFromSentence(lexicon,sentence) for sentence in sentences]\n",
    "sentences = [loaded_model(sentence.view(1,-1)) for sentence in sentences]\n",
    "for sentence in sentences: print(sentence[0][0].item())"
   ]
  },
  {
   "cell_type": "code",
   "execution_count": null,
   "metadata": {},
   "outputs": [],
   "source": []
  },
  {
   "cell_type": "code",
   "execution_count": 15,
   "metadata": {
    "scrolled": false
   },
   "outputs": [],
   "source": [
    "# import numpy as np\n",
    "# import matplotlib.pyplot as plt\n",
    "\n",
    "# m = 100\n",
    "# n = 100\n",
    "# matrix = np.random.normal(0,1,m*n).reshape(m,n)\n",
    "# matrix2 = np.random.normal(0,1,m*n).reshape(m,n)\n",
    "# print(matrix.shape)\n",
    "\n",
    "# fig = plt.figure()\n",
    "# ax = fig.add_subplot(111)\n",
    "# plt.ion()\n",
    "\n",
    "# fig.show()\n",
    "# fig.canvas.draw()\n",
    "\n",
    "# for i in range(0,100):\n",
    "#     ax.clear()\n",
    "#     ax.plot(matrix[i,:])\n",
    "#     ax.plot(matrix2[i,:])\n",
    "#     fig.canvas.draw()"
   ]
  },
  {
   "cell_type": "code",
   "execution_count": 40,
   "metadata": {},
   "outputs": [],
   "source": [
    "# train_ds.facts_or_analysis_frame.iloc[0,0]\n",
    "# sentences = [train_ds.facts_or_analysis_frame.iloc[i,0] for i in range(train_ds.n_of_sentences)]\n",
    "# sentences = [train_ds.indexesFromSentence(lexicon,sentence) for sentence in sentences]\n",
    "# print('n_unk: %d' % len(train_ds.n_unk))\n",
    "# print('n_words: %d' % len(train_ds.n_words))\n"
   ]
  }
 ],
 "metadata": {
  "kernelspec": {
   "display_name": "Python 3",
   "language": "python",
   "name": "python3"
  },
  "language_info": {
   "codemirror_mode": {
    "name": "ipython",
    "version": 3
   },
   "file_extension": ".py",
   "mimetype": "text/x-python",
   "name": "python",
   "nbconvert_exporter": "python",
   "pygments_lexer": "ipython3",
   "version": "3.7.3"
  }
 },
 "nbformat": 4,
 "nbformat_minor": 2
}
